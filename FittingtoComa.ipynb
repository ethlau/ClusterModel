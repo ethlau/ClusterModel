{
 "cells": [
  {
   "cell_type": "markdown",
   "metadata": {},
   "source": [
    "# Contents\n",
    "- Electron Population\n",
    "  - NORM IS A PARAMETER THIS TIME\n",
    "- Synchrotron Emission\n",
    "  - None of these work...\n",
    "- Coma Data\n",
    "  - Fit a simple power law \n",
    "  \n",
    "  \n",
    "I will do a fit to the synchrotron function but I can't use the norm as a parameter unless I figure out how to manually write the ClusterEmission synchrotron! \n"
   ]
  },
  {
   "cell_type": "code",
   "execution_count": 1,
   "metadata": {},
   "outputs": [],
   "source": [
    "from matplotlib.colors import SymLogNorm\n",
    "import matplotlib\n",
    "import matplotlib.pyplot as plt\n",
    "import numpy as np\n",
    "from astropy.coordinates.sky_coordinate import SkyCoord\n",
    "import astropy.units as u\n",
    "from astropy.cosmology import Planck15 as cosmo\n",
    "from astropy import constants as const\n",
    "from astropy.wcs import WCS\n",
    "from ClusterModel import model\n",
    "from ClusterModel import model_modpar\n",
    "from ClusterModel import model_tools\n",
    "\n",
    "# Modify plotting parameters\n",
    "dict_base = {'font.size':        16,\n",
    "             'legend.fontsize':  16,\n",
    "             'xtick.labelsize':  16,\n",
    "             'ytick.labelsize':  16,\n",
    "             'axes.labelsize':   16,\n",
    "             'axes.titlesize':   16,\n",
    "             'figure.titlesize': 16,    \n",
    "             'figure.figsize':[8.0, 6.0],\n",
    "             'figure.subplot.right':0.97,\n",
    "             'figure.subplot.left':0.15,\n",
    "             'font.family':'serif',\n",
    "             'figure.facecolor': 'white',\n",
    "             'legend.frameon': True}\n",
    "plt.rcParams.update(dict_base)"
   ]
  },
  {
   "cell_type": "markdown",
   "metadata": {},
   "source": [
    "   # Define Cluster object: COMA"
   ]
  },
  {
   "cell_type": "code",
   "execution_count": 2,
   "metadata": {},
   "outputs": [
    {
     "name": "stdout",
     "output_type": "stream",
     "text": [
      "=====================================================================\n",
      "                      ___   __    ___   __   __                      \n",
      "                     / __) / _\\  / __) /  \\ (  )                     \n",
      "                    ( (__ /    \\( (_ \\(  O )/ (_/\\                   \n",
      "                     \\___)\\_/\\_/ \\___/ \\__/ \\____/                   \n",
      "=====================================================================\n",
      "   Cluster Atmosphere modeling for Gamma-ray Observations Libraries  \n",
      "---------------------------------------------------------------------\n",
      "                                                                     \n",
      "Setting gNFW Planck coll. (2013) UPP.\n"
     ]
    }
   ],
   "source": [
    "clust = model.Cluster(name='Coma', \n",
    "                      redshift=0.023, M500=7e14*u.Msun, \n",
    "                      cosmology=cosmo, silent=False, \n",
    "                      output_dir='/Users/adam/Desktop/test')"
   ]
  },
  {
   "cell_type": "markdown",
   "metadata": {},
   "source": [
    "# Setting up Models\n",
    "For Primary electrons use a simple power law"
   ]
  },
  {
   "cell_type": "code",
   "execution_count": 3,
   "metadata": {},
   "outputs": [
    {
     "name": "stdout",
     "output_type": "stream",
     "text": [
      "Setting coord value\n",
      "Setting density_gas_model value\n",
      "Fixing: R500\n",
      "Setting pressure_gas_model value\n",
      "Fixing: R500\n",
      "Setting spectrum_crp_model value\n",
      "Getting R500 value\n",
      "Setting cosmic ray to thermal pressure ratio value\n"
     ]
    }
   ],
   "source": [
    "#----- Some parameters that can be set at when defining the cluster\n",
    "clust.coord = SkyCoord(\"194.953d  27.9806d\", frame=\"icrs\", unit=\"deg\")\n",
    "\n",
    "#----- Define the relevant ICM model (available models are defined in model_modpar.py)\n",
    "\n",
    "# Density profile of the target thermal gas\n",
    "clust.density_gas_model = {'name':'beta', 'n_0':3e-3*u.cm**-3, 'beta':2.0/3, 'r_c':290*u.kpc}\n",
    "\n",
    "# Pressure profile of the target thermal gas\n",
    "clust.pressure_gas_model = {'name':'GNFW', 'P_0':2.2e-2*u.keV/u.cm**3, 'c500':2.9, 'a':1.8, 'b':3.1, 'c':0.0}\n",
    "\n",
    "# Set the cosmic ray density profile to the same shape as the thermal gas density\n",
    "clust.set_density_crp_isodens_scal_param()\n",
    "\n",
    "# Cosmic ray proton spectrum\n",
    "clust.spectrum_crp_model = {'name':'PowerLaw', 'Index':2.3}\n",
    "\n",
    "# Cosmic ray proton normalization\n",
    "clust.X_cr_E = {'X':0.01, 'R_norm':clust.R500} # X is the CRp/thermal energy ratio, normalized within R_norm"
   ]
  },
  {
   "cell_type": "code",
   "execution_count": 4,
   "metadata": {},
   "outputs": [
    {
     "name": "stdout",
     "output_type": "stream",
     "text": [
      "Getting the minimal proton energy\n",
      "Getting the maximal proton energy\n"
     ]
    }
   ],
   "source": [
    "#Set some random stolen models for the primary electrons\n",
    "clust.spectrum_cre1_model = {'name':  'PowerLaw', 'Index':2.3}\n",
    "                             #'ExponentialCutoffPowerLaw','Index':3.3, 'CutoffEnergy':1e7*u.keV}\n",
    "                           \n",
    "                        \n",
    "## You can try building a model incorporating the energy losses from sync and IC!\n",
    "\n",
    "\n",
    "## For density you can just make the same as protons --> set it equal to the thermal gas \n",
    "clust.density_cre1_model = {'name': 'beta', 'n_0':3e-3*u.cm**-3, 'beta':2.0/3, 'r_c':290*u.kpc}\n",
    "\n",
    "#pull out some random min and max energies\n",
    "Eemin = clust.Epmin \n",
    "Eemax = clust.Epmax"
   ]
  },
  {
   "cell_type": "markdown",
   "metadata": {},
   "source": [
    "## Electron Functions\n",
    "Norm, A, is a parameter now"
   ]
  },
  {
   "cell_type": "code",
   "execution_count": 5,
   "metadata": {},
   "outputs": [],
   "source": [
    "\n",
    "\n",
    "\n",
    "clust.density_cre1_model['n_0'] = 1.0 *u.adu\n",
    "\n",
    "def get_normed_density_cre1_profile(cl = clust, rad = np.logspace(0,4,100)*u.kpc):\n",
    "    \n",
    "   # rad = model_tools.check_qarray(rad, unit = 'kpc')\n",
    "    nr = cl._get_generic_profile(rad, cl.density_cre1_model)\n",
    "    nr[rad > cl._R_truncation] *= 0 \n",
    "    \n",
    "    return rad, nr.to('adu')\n",
    "\n",
    "\n",
    "def get_normed_spectrum_cre1(cl , en): \n",
    "    \n",
    "    se = cl._get_generic_spectrum(en, cl.spectrum_cre1_model)\n",
    "    se[en >Eemax] *= 0\n",
    "    se[en <Eemin] *= 0\n",
    "    \n",
    "    return en, se*u.adu\n",
    "\n",
    "\n",
    "def cre1_2d(A = 1/u.GeV/u.cm**3, cl = clust, en= np.logspace(-2,7,100)*u.GeV, rd =np.logspace(0,4,100)*u.kpc):\n",
    "    \n",
    "    #norm\n",
    "    \n",
    "    #norm_electrons(cl)\n",
    "    #spatial\n",
    "    rad, fd = get_normed_density_cre1_profile(cl, rd)\n",
    "    fd2 = model_tools.replicate_array(fd.to_value('adu'), len(en), T = False )\n",
    "    #energy\n",
    "    eng, fe = get_normed_spectrum_cre1(cl, en)\n",
    "    fe2 = model_tools.replicate_array(fe.to_value('adu'), len(rd), T = True )\n",
    "    \n",
    "    spectrum= A*fd2*fe2\n",
    "     \n",
    "    return spectrum.to('GeV-1 cm-3')\n",
    "\n",
    "\n",
    "\n",
    "def density_cre1_profile(A = 1/u.GeV/u.cm**3 , rad = np.logspace(0,4,100)*u.kpc, Emin = None, Emax = None):\n",
    "    \n",
    "    if Emin is None:\n",
    "        Emin = (const.m_e*const.c**2).to('GeV')\n",
    "    if Emax is None:\n",
    "        Emax = clust._Epmax\n",
    "    \n",
    "    #Define energy range\n",
    "    eng = model_tools.sampling_array(Emin, Emax,NptPd = clust._Npt_per_decade_integ, unit = True)\n",
    "    \n",
    "    #2D differntial spectrum\n",
    "    dN_dEdV = cre1_2d(A, clust, eng, rad)\n",
    "    \n",
    "    #Integrate the diffferential spectrum \n",
    "    prof = (model_tools.trapz_loglog(dN_dEdV, eng, axis = 0)).to('cm-3')\n",
    "    \n",
    "    return rad, prof "
   ]
  },
  {
   "cell_type": "markdown",
   "metadata": {},
   "source": [
    "## They work "
   ]
  },
  {
   "cell_type": "code",
   "execution_count": 92,
   "metadata": {},
   "outputs": [
    {
     "data": {
      "text/plain": [
       "<matplotlib.legend.Legend at 0x7f516b572e90>"
      ]
     },
     "execution_count": 92,
     "metadata": {},
     "output_type": "execute_result"
    },
    {
     "data": {
      "image/png": "[encoded data removed]",
      "text/plain": [
       "<Figure size 1080x432 with 2 Axes>"
      ]
     },
     "metadata": {
      "needs_background": "light"
     },
     "output_type": "display_data"
    }
   ],
   "source": [
    "radius=np.logspace(0,4,100)*u.kpc\n",
    "energy=np.logspace(-2,7,100)*u.GeV\n",
    "\n",
    "\n",
    "# The simplest plots: density profile and spectrum\n",
    "plt.figure(figsize=(15,6))\n",
    "plt.subplot(121)\n",
    "\n",
    "a ,b = get_normed_density_cre1_profile(clust, radius)\n",
    "plt.loglog(a,b, label='basic density profile')\n",
    "\n",
    "plt.xlabel('density ')\n",
    "plt.ylabel('SE')\n",
    "plt.legend()\n",
    "\n",
    "\n",
    "plt.subplot(122)\n",
    "c, d = get_normed_spectrum_cre1(clust,energy)\n",
    "plt.loglog(c,d,label = 'basic spectrum')\n",
    "plt.xlabel('energy')\n",
    "plt.legend()"
   ]
  },
  {
   "cell_type": "markdown",
   "metadata": {},
   "source": [
    "# Risky Sync Attempt - NONE WORKS"
   ]
  },
  {
   "cell_type": "code",
   "execution_count": 7,
   "metadata": {},
   "outputs": [],
   "source": [
    "from scipy.special import cbrt\n",
    "\n",
    "\n",
    "def Gtilde( x):\n",
    "        \"\"\"\n",
    "        Useful equation. Aharonian, Kelner, Prosekin 2010 Eq. D7\n",
    "        Taken from Naima.\n",
    "        \n",
    "        Factor ~2 performance gain in using cbrt(x)**n vs x**(n/3.)\n",
    "        Invoking crbt only once reduced time by ~40%\n",
    "        \"\"\"\n",
    "        cb = cbrt(x) # x**1/3\n",
    "        gt1 = 1.808 * cb / np.sqrt(1 + 3.4 * cb ** 2.0)\n",
    "        gt2 = 1 + 2.210 * cb ** 2.0 + 0.347 * cb ** 4.0\n",
    "        gt3 = 1 + 1.353 * cb ** 2.0 + 0.217 * cb ** 4.0\n",
    "        \n",
    "        return gt1 * (gt2 / gt3) * np.exp(-x)\n",
    "    "
   ]
  },
  {
   "cell_type": "code",
   "execution_count": 71,
   "metadata": {},
   "outputs": [],
   "source": [
    "def synchrotron(cl, Ephoton_input, radius, B=1.0*u.uG, A = 1/u.GeV/u.cm**3):\n",
    "        \n",
    "        NptEePd = 100\n",
    "        #Electron energy\n",
    "        Eemin = (const.m_e *const.c**2).to_value('GeV')\n",
    "        Eemax = clust.Epmax\n",
    "        Eemax = Eemax.to_value('GeV')\n",
    "        Ee = np.logspace(np.log10(Eemin), np.log10(Eemax), 100)\n",
    "        #np.logspace(np.log10(Eemin), np.log10(Eemax), int(NptEePd*(np.log10(Eemax/Eemin))))\n",
    "\n",
    "        # Check input photons\n",
    "        Ephoton = Ephoton_input.to('eV')\n",
    "        if type(Ephoton) == float: Ephoton = np.array([Ephoton])\n",
    "#Eemin = clust.Epmin \n",
    "#Eemax = clust.Epmax\n",
    "      \n",
    "        gamma = (Ee/(const.m_e*const.c**2).to_value('GeV')) # 1D\n",
    "        ampli = np.sqrt(3)/(8*np.pi**2)*(const.e.value*const.e.unit)**3/(const.eps0*const.m_e*const.c*const.hbar)\n",
    "\n",
    "        #---------- Case of integrated quantities, no radius\n",
    "        # Get the electron distribution\n",
    "        Je = cre1_2d( A , cl , Ee*u.GeV, radius).to_value('GeV-1 cm-3').T*u.GeV**-1\n",
    "        #Je = Je*u.GeV**-1\n",
    "\n",
    "        # Get the normalization function (1D: Ephot)\n",
    "        func = ampli * B / Ephoton\n",
    "        \n",
    "        # Get the critical energy and energy ratio\n",
    "        Ec = (3.0/2)*gamma**2*const.e.value*const.e.unit*B*const.hbar / (const.m_e) # 1D: Eelec\n",
    "        EphotEc = Ephoton.to_value('GeV') / np.vstack(Ec.to_value('GeV')) # 2D: photon energy, electron energy\n",
    "\n",
    "        # Compute integrand\n",
    "        dNphot_dEdt = func * Gtilde(EphotEc)\n",
    "        \n",
    "        # Integrate over electron energy\n",
    "        dNphot_dEdt = model_tools.trapz_loglog(np.vstack(Je.value)*Je.unit * dNphot_dEdt, Ee*u.GeV, axis=0)\n",
    "\n",
    "        # Get the output\n",
    "        output = dNphot_dEdt.to('GeV-1 s-1')\n",
    "\n",
    "        return output "
   ]
  },
  {
   "cell_type": "markdown",
   "metadata": {},
   "source": [
    "## Synchotron Emission"
   ]
  },
  {
   "cell_type": "code",
   "execution_count": 72,
   "metadata": {},
   "outputs": [],
   "source": [
    " def get_rate_synchrotron(self, energy=np.logspace(-9,-2,100)*u.eV, radius=np.logspace(0,4,100)*u.kpc):\n",
    "        \"\"\"\n",
    "        Compute the synchrotron density as dN/dEdVdt = f(E, r)\n",
    "        \n",
    "        Parameters\n",
    "        ----------\n",
    "        - energy (quantity) : the physical energy of synchrotron photons\n",
    "        - radius (quantity): the physical 3d radius in units homogeneous to kpc, as a 1d array\n",
    "\n",
    "        Outputs\n",
    "        ----------\n",
    "        - dN_dEdVdt (np.ndarray): the differntial production rate\n",
    "\n",
    "        \"\"\"\n",
    "\n",
    "        # In case the input is not an array\n",
    "        energy = model_tools.check_qarray(energy, unit='eV')\n",
    "        radius = model_tools.check_qarray(radius, unit='kpc')\n",
    "\n",
    "        # Get the magnetic field\n",
    "        radius, B   = self.get_magfield_profile(radius)\n",
    "        \n",
    "        # Parse the CRe distribution: returns call function[rad, energy] amd returns f[rad, energy]\n",
    "        def Je(rad, eng): return self.get_cre_2d(eng*u.GeV, rad*u.kpc).to_value('GeV-1 cm-3').T\n",
    "\n",
    "        # Define the model\n",
    "        model = cluster_electron_emission.ClusterElectronEmission(Je,\n",
    "                                                                  Eemin=(const.m_e*const.c**2).to('GeV'),\n",
    "                                                                  Eemax=self._Epmax,\n",
    "                                                                  NptEePd=self._Npt_per_decade_integ)\n",
    "        \n",
    "        # Extract the spectrum: what is long is evaluating Je inside the code"
   ]
  },
  {
   "cell_type": "code",
   "execution_count": 73,
   "metadata": {},
   "outputs": [],
   "source": [
    "def rate_sync(A = (1/u.GeV/u.cm**3), cl = clust, energy = np.logspace(-9,-2,100)*u.eV, radius = np.logspace(0,4,100)*u.kpc ):\n",
    "    \n",
    "    #Get Magnetic field\n",
    "    radius, B = clust.get_magfield_profile(radius)\n",
    "        \n",
    "    rate = synchrotron(cl, energy, radius, B, A).T\n",
    "    \n",
    "    return rate.to('GeV-1 cm-3 s-1')\n",
    "\n",
    "\n",
    "\n",
    "from ClusterModel.ClusterTools import cluster_electron_emission as emi\n",
    "def Rrate_sync(A = (1/u.GeV/u.cm**3), cl = clust, energy = np.logspace(-9,-2,100)*u.eV, radius = np.logspace(0,4,100)*u.kpc ):\n",
    "    \n",
    "    #Get Magnetic field\n",
    "    radius, B = clust.get_magfield_profile(radius)\n",
    "    \n",
    "    #Define Je: \n",
    "    def Je2( rad, eng): return cre1_2d( A = A , cl = cl, en= eng*u.GeV, rd = rad*u.kpc).to_value('GeV-1 cm-3').T\n",
    "    \n",
    "    #Use the class\n",
    "    model =  emi.ClusterElectronEmission (Je = Je2,Eemin=(const.m_e*const.c**2).to('GeV'), NptEePd=clust._Npt_per_decade_integ)\n",
    "    rate = model.synchrotron( energy, radius_input = radius, B=B).T\n",
    "    \n",
    "    return rate.to('GeV-1 cm-3 s-1')\n",
    "\n",
    "\n",
    "\n",
    "def sync_spectrum(A = (1/u.GeV/u.cm**3), cl = clust, freq = np.logspace(-3,2,100)*u.GHz, Rmin = None, Rmax = None):\n",
    "    \n",
    "    \n",
    "    #Get energy\n",
    "    energy = (const.h*freq).to('eV')\n",
    "    \n",
    "    #Determine boundaries\n",
    "    if Rmin is None:\n",
    "        Rmin = clust._Rmin\n",
    "    if Rmax is None:\n",
    "        Rmax = clust._R500\n",
    "        \n",
    "        \n",
    "    #sample radius\n",
    "    rad = model_tools.sampling_array(Rmin, Rmax, NptPd = clust._Npt_per_decade_integ, unit = True)\n",
    "    #Use rate sync to get synchotron rate\n",
    "    dNdEdVdt = rate_sync(A, cl, energy, rad)\n",
    "    #integrate spherically\n",
    "    dNdEdt = model_tools.spherical_integration(dNdEdVdt, rad)\n",
    "    \n",
    "    #This gave us luminosity; now get flux \n",
    "    dNdEdSdt = dNdEdt / (4*np.pi * clust._D_lum**2)\n",
    "    \n",
    "    #Convert to Jy \n",
    "    return freq, (dNdEdSdt*energy**2 / freq).to('Jy')\n",
    "\n",
    "\n",
    "\n"
   ]
  },
  {
   "cell_type": "markdown",
   "metadata": {},
   "source": [
    "# Data"
   ]
  },
  {
   "cell_type": "code",
   "execution_count": 96,
   "metadata": {},
   "outputs": [],
   "source": [
    "# Radio total flux [Thierbach et al (2003)]:\n",
    "\n",
    "dat_freq = np.array([30.9,43,73.8,151,326,408,430,608.5,1380,1400,2675,2700,4850])*u.MHz\n",
    "dat_flux = np.array([49,51,17,7.2,3.81,2.0,2.55,1.2,0.53,0.64,0.11,0.07,0.03])*u.Jy\n",
    "dat_err  = np.array([10,13,12,0.8,0.03,0.2,0.28,0.3,0.05,0.035,0.03,0.02,0.01])*u.Jy\n"
   ]
  },
  {
   "cell_type": "code",
   "execution_count": 97,
   "metadata": {},
   "outputs": [],
   "source": [
    "#Primary\n",
    "#dat_freq, spectrum = sync_spectrum(dat_freq)\n"
   ]
  },
  {
   "cell_type": "markdown",
   "metadata": {},
   "source": [
    "### Just plot the data along with a powerlaw"
   ]
  },
  {
   "cell_type": "code",
   "execution_count": 102,
   "metadata": {},
   "outputs": [
    {
     "data": {
      "image/png": "[encoded data removed]",
      "text/plain": [
       "<Figure size 1080x720 with 1 Axes>"
      ]
     },
     "metadata": {
      "needs_background": "light"
     },
     "output_type": "display_data"
    }
   ],
   "source": [
    "#Secondary Electrons\n",
    "bid, s1 = clust.get_synchrotron_spectrum(dat_freq, Rmin=None, Rmax=None, type_integral='spherical', Rmin_los=None, \n",
    "                                   NR500_los=5.0, Cframe=False)\n",
    "\n",
    "def trialfunc(x):\n",
    "    return 10**3*(x)**(-1)\n",
    "\n",
    "trial = trialfunc(dat_freq)\n",
    "\n",
    "\n",
    "plt.figure(figsize=(15,10))\n",
    "##DATA\n",
    "plt.loglog(dat_freq,dat_flux,\".\", label = \"data\")\n",
    "#SECONDARY\n",
    "plt.loglog(dat_freq, s1, \"*\", label = \"secondary\")\n",
    "\n",
    "plt.loglog(dat_freq, trial)\n",
    "\n",
    "\n",
    "plt.xlabel(dat_freq.unit)\n",
    "plt.ylabel((s1).unit)\n",
    "plt.legend()\n",
    "plt.show()\n"
   ]
  },
  {
   "cell_type": "markdown",
   "metadata": {},
   "source": [
    "# Fitting to COMA"
   ]
  },
  {
   "cell_type": "markdown",
   "metadata": {},
   "source": [
    "# Simple\n",
    "Just fit some simple power law, for sanity check"
   ]
  },
  {
   "cell_type": "code",
   "execution_count": 28,
   "metadata": {},
   "outputs": [
    {
     "name": "stdout",
     "output_type": "stream",
     "text": [
      "[ 2.27834835e+03 -1.08423216e+00]\n"
     ]
    }
   ],
   "source": [
    "from scipy import optimize\n",
    "\n",
    "\n",
    "def fitfunc(x, a, b):\n",
    "    return a*(x)**b\n",
    "\n",
    "params, params_covariance = optimize.curve_fit(fitfunc, dat_freq, dat_flux,\n",
    "                                               p0=[2, 2])\n",
    "\n",
    "print(params)"
   ]
  },
  {
   "cell_type": "code",
   "execution_count": 30,
   "metadata": {},
   "outputs": [
    {
     "data": {
      "image/png": "[encoded data removed]",
      "text/plain": [
       "<Figure size 1080x720 with 1 Axes>"
      ]
     },
     "metadata": {
      "needs_background": "light"
     },
     "output_type": "display_data"
    }
   ],
   "source": [
    "plt.figure(figsize=(15, 10))\n",
    "plt.scatter(dat_freq, dat_flux, label='Data')\n",
    "plt.loglog(dat_freq, fitfunc(dat_freq, params[0], params[1]),\n",
    "         label='Fitted function')\n",
    "\n",
    "plt.legend(loc='best')\n",
    "\n",
    "plt.show()"
   ]
  },
  {
   "cell_type": "markdown",
   "metadata": {},
   "source": [
    "## Notes\n",
    "Not bad! "
   ]
  },
  {
   "cell_type": "markdown",
   "metadata": {},
   "source": [
    "# Try Harder \n",
    "Leastsq\n",
    "- It doesnt work "
   ]
  },
  {
   "cell_type": "code",
   "execution_count": 85,
   "metadata": {},
   "outputs": [
    {
     "ename": "UnitConversionError",
     "evalue": "Can only apply 'subtract' function to quantities with compatible dimensions",
     "output_type": "error",
     "traceback": [
      "\u001b[0;31m---------------------------------------------------------------------------\u001b[0m",
      "\u001b[0;31mUnitConversionError\u001b[0m                       Traceback (most recent call last)",
      "\u001b[0;32m<ipython-input-85-24d9fc3628b8>\u001b[0m in \u001b[0;36m<module>\u001b[0;34m()\u001b[0m\n\u001b[1;32m     11\u001b[0m \u001b[0mp02\u001b[0m \u001b[0;34m=\u001b[0m \u001b[0;34m[\u001b[0m \u001b[0;36m2.27834835e+03\u001b[0m\u001b[0;34m,\u001b[0m\u001b[0;34m-\u001b[0m\u001b[0;36m1.08423216e+00\u001b[0m\u001b[0;34m]\u001b[0m\u001b[0;34m\u001b[0m\u001b[0m\n\u001b[1;32m     12\u001b[0m \u001b[0mdy\u001b[0m \u001b[0;34m=\u001b[0m \u001b[0mdat_err\u001b[0m\u001b[0;34m\u001b[0m\u001b[0m\n\u001b[0;32m---> 13\u001b[0;31m \u001b[0mpf2\u001b[0m\u001b[0;34m,\u001b[0m \u001b[0mcov2\u001b[0m\u001b[0;34m,\u001b[0m \u001b[0minfo2\u001b[0m\u001b[0;34m,\u001b[0m \u001b[0mmesg2\u001b[0m\u001b[0;34m,\u001b[0m \u001b[0msuccess2\u001b[0m \u001b[0;34m=\u001b[0m \u001b[0moptimize\u001b[0m\u001b[0;34m.\u001b[0m\u001b[0mleastsq\u001b[0m\u001b[0;34m(\u001b[0m\u001b[0mresidual2\u001b[0m\u001b[0;34m,\u001b[0m \u001b[0mp02\u001b[0m\u001b[0;34m,\u001b[0m \u001b[0margs\u001b[0m \u001b[0;34m=\u001b[0m \u001b[0;34m(\u001b[0m\u001b[0mx\u001b[0m\u001b[0;34m,\u001b[0m \u001b[0my\u001b[0m\u001b[0;34m,\u001b[0m \u001b[0mdy\u001b[0m\u001b[0;34m)\u001b[0m\u001b[0;34m,\u001b[0m \u001b[0mfull_output\u001b[0m\u001b[0;34m=\u001b[0m\u001b[0;36m1\u001b[0m\u001b[0;34m)\u001b[0m\u001b[0;34m\u001b[0m\u001b[0m\n\u001b[0m\u001b[1;32m     14\u001b[0m \u001b[0mpf2_f\u001b[0m\u001b[0;34m,\u001b[0m \u001b[0mpf2_a\u001b[0m \u001b[0;34m=\u001b[0m \u001b[0mpf2\u001b[0m\u001b[0;34m\u001b[0m\u001b[0m\n\u001b[1;32m     15\u001b[0m \u001b[0;32mif\u001b[0m \u001b[0msuccess2\u001b[0m \u001b[0;34m<=\u001b[0m \u001b[0;36m4\u001b[0m\u001b[0;34m:\u001b[0m\u001b[0;34m\u001b[0m\u001b[0m\n",
      "\u001b[0;32m/home/astrogamma/.local/anaconda3/envs/cta/lib/python2.7/site-packages/scipy/optimize/minpack.pyc\u001b[0m in \u001b[0;36mleastsq\u001b[0;34m(func, x0, args, Dfun, full_output, col_deriv, ftol, xtol, gtol, maxfev, epsfcn, factor, diag)\u001b[0m\n\u001b[1;32m    382\u001b[0m     \u001b[0;32mif\u001b[0m \u001b[0;32mnot\u001b[0m \u001b[0misinstance\u001b[0m\u001b[0;34m(\u001b[0m\u001b[0margs\u001b[0m\u001b[0;34m,\u001b[0m \u001b[0mtuple\u001b[0m\u001b[0;34m)\u001b[0m\u001b[0;34m:\u001b[0m\u001b[0;34m\u001b[0m\u001b[0m\n\u001b[1;32m    383\u001b[0m         \u001b[0margs\u001b[0m \u001b[0;34m=\u001b[0m \u001b[0;34m(\u001b[0m\u001b[0margs\u001b[0m\u001b[0;34m,\u001b[0m\u001b[0;34m)\u001b[0m\u001b[0;34m\u001b[0m\u001b[0m\n\u001b[0;32m--> 384\u001b[0;31m     \u001b[0mshape\u001b[0m\u001b[0;34m,\u001b[0m \u001b[0mdtype\u001b[0m \u001b[0;34m=\u001b[0m \u001b[0m_check_func\u001b[0m\u001b[0;34m(\u001b[0m\u001b[0;34m'leastsq'\u001b[0m\u001b[0;34m,\u001b[0m \u001b[0;34m'func'\u001b[0m\u001b[0;34m,\u001b[0m \u001b[0mfunc\u001b[0m\u001b[0;34m,\u001b[0m \u001b[0mx0\u001b[0m\u001b[0;34m,\u001b[0m \u001b[0margs\u001b[0m\u001b[0;34m,\u001b[0m \u001b[0mn\u001b[0m\u001b[0;34m)\u001b[0m\u001b[0;34m\u001b[0m\u001b[0m\n\u001b[0m\u001b[1;32m    385\u001b[0m     \u001b[0mm\u001b[0m \u001b[0;34m=\u001b[0m \u001b[0mshape\u001b[0m\u001b[0;34m[\u001b[0m\u001b[0;36m0\u001b[0m\u001b[0;34m]\u001b[0m\u001b[0;34m\u001b[0m\u001b[0m\n\u001b[1;32m    386\u001b[0m     \u001b[0;32mif\u001b[0m \u001b[0mn\u001b[0m \u001b[0;34m>\u001b[0m \u001b[0mm\u001b[0m\u001b[0;34m:\u001b[0m\u001b[0;34m\u001b[0m\u001b[0m\n",
      "\u001b[0;32m/home/astrogamma/.local/anaconda3/envs/cta/lib/python2.7/site-packages/scipy/optimize/minpack.pyc\u001b[0m in \u001b[0;36m_check_func\u001b[0;34m(checker, argname, thefunc, x0, args, numinputs, output_shape)\u001b[0m\n\u001b[1;32m     24\u001b[0m def _check_func(checker, argname, thefunc, x0, args, numinputs,\n\u001b[1;32m     25\u001b[0m                 output_shape=None):\n\u001b[0;32m---> 26\u001b[0;31m     \u001b[0mres\u001b[0m \u001b[0;34m=\u001b[0m \u001b[0matleast_1d\u001b[0m\u001b[0;34m(\u001b[0m\u001b[0mthefunc\u001b[0m\u001b[0;34m(\u001b[0m\u001b[0;34m*\u001b[0m\u001b[0;34m(\u001b[0m\u001b[0;34m(\u001b[0m\u001b[0mx0\u001b[0m\u001b[0;34m[\u001b[0m\u001b[0;34m:\u001b[0m\u001b[0mnuminputs\u001b[0m\u001b[0;34m]\u001b[0m\u001b[0;34m,\u001b[0m\u001b[0;34m)\u001b[0m \u001b[0;34m+\u001b[0m \u001b[0margs\u001b[0m\u001b[0;34m)\u001b[0m\u001b[0;34m)\u001b[0m\u001b[0;34m)\u001b[0m\u001b[0;34m\u001b[0m\u001b[0m\n\u001b[0m\u001b[1;32m     27\u001b[0m     \u001b[0;32mif\u001b[0m \u001b[0;34m(\u001b[0m\u001b[0moutput_shape\u001b[0m \u001b[0;32mis\u001b[0m \u001b[0;32mnot\u001b[0m \u001b[0mNone\u001b[0m\u001b[0;34m)\u001b[0m \u001b[0;32mand\u001b[0m \u001b[0;34m(\u001b[0m\u001b[0mshape\u001b[0m\u001b[0;34m(\u001b[0m\u001b[0mres\u001b[0m\u001b[0;34m)\u001b[0m \u001b[0;34m!=\u001b[0m \u001b[0moutput_shape\u001b[0m\u001b[0;34m)\u001b[0m\u001b[0;34m:\u001b[0m\u001b[0;34m\u001b[0m\u001b[0m\n\u001b[1;32m     28\u001b[0m         \u001b[0;32mif\u001b[0m \u001b[0;34m(\u001b[0m\u001b[0moutput_shape\u001b[0m\u001b[0;34m[\u001b[0m\u001b[0;36m0\u001b[0m\u001b[0;34m]\u001b[0m \u001b[0;34m!=\u001b[0m \u001b[0;36m1\u001b[0m\u001b[0;34m)\u001b[0m\u001b[0;34m:\u001b[0m\u001b[0;34m\u001b[0m\u001b[0m\n",
      "\u001b[0;32m<ipython-input-85-24d9fc3628b8>\u001b[0m in \u001b[0;36mresidual2\u001b[0;34m(p, x, y, dy)\u001b[0m\n\u001b[1;32m      5\u001b[0m     \u001b[0;32mreturn\u001b[0m \u001b[0mp\u001b[0m\u001b[0;34m[\u001b[0m\u001b[0;36m0\u001b[0m\u001b[0;34m]\u001b[0m\u001b[0;34m*\u001b[0m\u001b[0;34m(\u001b[0m\u001b[0mx\u001b[0m\u001b[0;34m)\u001b[0m\u001b[0;34m**\u001b[0m\u001b[0mp\u001b[0m\u001b[0;34m[\u001b[0m\u001b[0;36m1\u001b[0m\u001b[0;34m]\u001b[0m\u001b[0;34m\u001b[0m\u001b[0m\n\u001b[1;32m      6\u001b[0m \u001b[0;32mdef\u001b[0m \u001b[0mresidual2\u001b[0m\u001b[0;34m(\u001b[0m\u001b[0mp\u001b[0m\u001b[0;34m,\u001b[0m \u001b[0mx\u001b[0m\u001b[0;34m,\u001b[0m \u001b[0my\u001b[0m\u001b[0;34m,\u001b[0m \u001b[0mdy\u001b[0m\u001b[0;34m)\u001b[0m\u001b[0;34m:\u001b[0m\u001b[0;34m\u001b[0m\u001b[0m\n\u001b[0;32m----> 7\u001b[0;31m     \u001b[0;32mreturn\u001b[0m \u001b[0;34m(\u001b[0m\u001b[0mfitfunc2\u001b[0m\u001b[0;34m(\u001b[0m\u001b[0mp\u001b[0m\u001b[0;34m,\u001b[0m \u001b[0mx\u001b[0m\u001b[0;34m)\u001b[0m\u001b[0;34m-\u001b[0m\u001b[0my\u001b[0m\u001b[0;34m)\u001b[0m\u001b[0;34m/\u001b[0m\u001b[0mdy\u001b[0m\u001b[0;34m\u001b[0m\u001b[0m\n\u001b[0m\u001b[1;32m      8\u001b[0m \u001b[0;34m\u001b[0m\u001b[0m\n\u001b[1;32m      9\u001b[0m \u001b[0my\u001b[0m \u001b[0;34m=\u001b[0m \u001b[0mdat_flux\u001b[0m\u001b[0;34m\u001b[0m\u001b[0m\n",
      "\u001b[0;32m/home/astrogamma/.local/anaconda3/envs/cta/lib/python2.7/site-packages/astropy/units/quantity.pyc\u001b[0m in \u001b[0;36m__array_ufunc__\u001b[0;34m(self, function, method, *inputs, **kwargs)\u001b[0m\n\u001b[1;32m    618\u001b[0m         \u001b[0;31m# consistent units between two inputs (e.g., in np.add) --\u001b[0m\u001b[0;34m\u001b[0m\u001b[0;34m\u001b[0m\u001b[0m\n\u001b[1;32m    619\u001b[0m         \u001b[0;31m# and the unit of the result (or tuple of units for nout > 1).\u001b[0m\u001b[0;34m\u001b[0m\u001b[0;34m\u001b[0m\u001b[0m\n\u001b[0;32m--> 620\u001b[0;31m         \u001b[0mconverters\u001b[0m\u001b[0;34m,\u001b[0m \u001b[0munit\u001b[0m \u001b[0;34m=\u001b[0m \u001b[0mconverters_and_unit\u001b[0m\u001b[0;34m(\u001b[0m\u001b[0mfunction\u001b[0m\u001b[0;34m,\u001b[0m \u001b[0mmethod\u001b[0m\u001b[0;34m,\u001b[0m \u001b[0;34m*\u001b[0m\u001b[0minputs\u001b[0m\u001b[0;34m)\u001b[0m\u001b[0;34m\u001b[0m\u001b[0m\n\u001b[0m\u001b[1;32m    621\u001b[0m \u001b[0;34m\u001b[0m\u001b[0m\n\u001b[1;32m    622\u001b[0m         \u001b[0mout\u001b[0m \u001b[0;34m=\u001b[0m \u001b[0mkwargs\u001b[0m\u001b[0;34m.\u001b[0m\u001b[0mget\u001b[0m\u001b[0;34m(\u001b[0m\u001b[0;34m'out'\u001b[0m\u001b[0;34m,\u001b[0m \u001b[0mNone\u001b[0m\u001b[0;34m)\u001b[0m\u001b[0;34m\u001b[0m\u001b[0m\n",
      "\u001b[0;32m/home/astrogamma/.local/anaconda3/envs/cta/lib/python2.7/site-packages/astropy/units/quantity_helper.pyc\u001b[0m in \u001b[0;36mconverters_and_unit\u001b[0;34m(function, method, *args)\u001b[0m\n\u001b[1;32m    469\u001b[0m         \u001b[0;31m# will have (this is a tuple of units if there are multiple outputs).\u001b[0m\u001b[0;34m\u001b[0m\u001b[0;34m\u001b[0m\u001b[0m\n\u001b[1;32m    470\u001b[0m         \u001b[0;32mif\u001b[0m \u001b[0mfunction\u001b[0m \u001b[0;32min\u001b[0m \u001b[0mUFUNC_HELPERS\u001b[0m\u001b[0;34m:\u001b[0m\u001b[0;34m\u001b[0m\u001b[0m\n\u001b[0;32m--> 471\u001b[0;31m             \u001b[0mconverters\u001b[0m\u001b[0;34m,\u001b[0m \u001b[0mresult_unit\u001b[0m \u001b[0;34m=\u001b[0m \u001b[0mUFUNC_HELPERS\u001b[0m\u001b[0;34m[\u001b[0m\u001b[0mfunction\u001b[0m\u001b[0;34m]\u001b[0m\u001b[0;34m(\u001b[0m\u001b[0mfunction\u001b[0m\u001b[0;34m,\u001b[0m \u001b[0;34m*\u001b[0m\u001b[0munits\u001b[0m\u001b[0;34m)\u001b[0m\u001b[0;34m\u001b[0m\u001b[0m\n\u001b[0m\u001b[1;32m    472\u001b[0m         \u001b[0;32melse\u001b[0m\u001b[0;34m:\u001b[0m\u001b[0;34m\u001b[0m\u001b[0m\n\u001b[1;32m    473\u001b[0m             raise TypeError(\"Unknown ufunc {0}.  Please raise issue on \"\n",
      "\u001b[0;32m/home/astrogamma/.local/anaconda3/envs/cta/lib/python2.7/site-packages/astropy/units/quantity_helper.pyc\u001b[0m in \u001b[0;36mhelper_twoarg_invariant\u001b[0;34m(f, unit1, unit2)\u001b[0m\n\u001b[1;32m    352\u001b[0m \u001b[0;34m\u001b[0m\u001b[0m\n\u001b[1;32m    353\u001b[0m \u001b[0;32mdef\u001b[0m \u001b[0mhelper_twoarg_invariant\u001b[0m\u001b[0;34m(\u001b[0m\u001b[0mf\u001b[0m\u001b[0;34m,\u001b[0m \u001b[0munit1\u001b[0m\u001b[0;34m,\u001b[0m \u001b[0munit2\u001b[0m\u001b[0;34m)\u001b[0m\u001b[0;34m:\u001b[0m\u001b[0;34m\u001b[0m\u001b[0m\n\u001b[0;32m--> 354\u001b[0;31m     \u001b[0;32mreturn\u001b[0m \u001b[0mget_converters_and_unit\u001b[0m\u001b[0;34m(\u001b[0m\u001b[0mf\u001b[0m\u001b[0;34m,\u001b[0m \u001b[0munit1\u001b[0m\u001b[0;34m,\u001b[0m \u001b[0munit2\u001b[0m\u001b[0;34m)\u001b[0m\u001b[0;34m\u001b[0m\u001b[0m\n\u001b[0m\u001b[1;32m    355\u001b[0m \u001b[0;34m\u001b[0m\u001b[0m\n\u001b[1;32m    356\u001b[0m \u001b[0;34m\u001b[0m\u001b[0m\n",
      "\u001b[0;32m/home/astrogamma/.local/anaconda3/envs/cta/lib/python2.7/site-packages/astropy/units/quantity_helper.pyc\u001b[0m in \u001b[0;36mget_converters_and_unit\u001b[0;34m(f, *units)\u001b[0m\n\u001b[1;32m    346\u001b[0m                 \u001b[0;34m\"Can only apply '{0}' function to quantities \"\u001b[0m\u001b[0;34m\u001b[0m\u001b[0m\n\u001b[1;32m    347\u001b[0m                 \u001b[0;34m\"with compatible dimensions\"\u001b[0m\u001b[0;34m\u001b[0m\u001b[0m\n\u001b[0;32m--> 348\u001b[0;31m                 .format(f.__name__))\n\u001b[0m\u001b[1;32m    349\u001b[0m \u001b[0;34m\u001b[0m\u001b[0m\n\u001b[1;32m    350\u001b[0m         \u001b[0;32mreturn\u001b[0m \u001b[0mconverters\u001b[0m\u001b[0;34m,\u001b[0m \u001b[0munits\u001b[0m\u001b[0;34m[\u001b[0m\u001b[0mfixed\u001b[0m\u001b[0;34m]\u001b[0m\u001b[0;34m\u001b[0m\u001b[0m\n",
      "\u001b[0;31mUnitConversionError\u001b[0m: Can only apply 'subtract' function to quantities with compatible dimensions"
     ]
    }
   ],
   "source": [
    "\n",
    "import matplotlib.gridspec as gridspec\n",
    "\n",
    "def fitfunc2(p, x):\n",
    "    return p[0]*(x)**p[1]\n",
    "def residual2(p, x, y, dy):\n",
    "    return (fitfunc2(p, x)-y)/dy\n",
    "\n",
    "y = dat_flux\n",
    "x = dat_freq\n",
    "p02 = [ 2.27834835e+03,-1.08423216e+00]\n",
    "dy = dat_err\n",
    "pf2, cov2, info2, mesg2, success2 = optimize.leastsq(residual2, p02, args = (x, y, dy), full_output=1)\n",
    "pf2_f, pf2_a = pf2\n",
    "if success2 <= 4:\n",
    "    print(\"Fit Converged\")\n",
    "    chisq2 = sum(info2[\"fvec\"]*info2[\"fvec\"])\n",
    "    dof2 = len(x)-len(pf2)\n",
    "    pferr2 = [np.sqrt(cov2[i,i]) for i in range(len(pf2))]\n",
    "    diff = np.array(y - fitfunc2(pf2, x))\n",
    "\n",
    "    \n",
    "    \n",
    "    f, (ax1, ax2) = plt.subplots(nrows =2,sharex = True, figsize = (30,15),gridspec_kw={'height_ratios': [4,1]} )\n",
    "\n",
    "\n",
    "    yerr = dy\n",
    "    ax1.errorbar(x, y, yerr, fmt='k.', label = 'Data')\n",
    "    T = np.linspace(x.min(), x.max(), 2000)\n",
    "    ax1.plot(T, fitfunc2(pf2, T), 'r-', label = 'Fit')\n",
    "    \n",
    "   # ax1.loglog(T, fitfunc2(pf2, T), 'r-', label = 'Fit')\n",
    "    ax1.set_yscale('log')\n",
    "    ax1.set_xscale('log')\n",
    "    \n",
    "    ax1.set_title('Spectrum', fontsize = 30)\n",
    "    ax1.set_xlabel('GHz', fontsize = 20)\n",
    "    ax1.set_ylabel('Jy', fontsize = 20)\n",
    "    ax1.tick_params(axis = 'both', which = \"major\", labelsize = 18)\n",
    "    ax1.legend(fontsize = 20)\n",
    "    \n",
    "    \n",
    "    \n",
    "   # ax3 = fig2.add_subplot(gs[1])\n",
    "    ax2.errorbar(x, diff, yerr = diff ,fmt=\"o\")\n",
    "    ax2.axhline(color=\"gray\", zorder=-1)\n",
    "    ax2.set_xlabel('GHz', fontsize = 20 )\n",
    "    ax2.set_ylabel('residuals', fontsize = 20)\n",
    "    ax2.tick_params(axis = 'both', which = \"major\", labelsize = 18)\n",
    "\n",
    "    #ax2.set_ylim(-20, 20)\n",
    "    #ax2.set_yticks((-20, 0, 20))\n",
    "    \n",
    "\n",
    "else:\n",
    "    print('Fit did not converge')\n",
    "    print(mesg2)\n"
   ]
  },
  {
   "cell_type": "code",
   "execution_count": null,
   "metadata": {},
   "outputs": [],
   "source": []
  }
 ],
 "metadata": {
  "kernelspec": {
   "display_name": "Python 2",
   "language": "python",
   "name": "python2"
  },
  "language_info": {
   "codemirror_mode": {
    "name": "ipython",
    "version": 2
   },
   "file_extension": ".py",
   "mimetype": "text/x-python",
   "name": "python",
   "nbconvert_exporter": "python",
   "pygments_lexer": "ipython2",
   "version": "2.7.17"
  }
 },
 "nbformat": 4,
 "nbformat_minor": 2
}
