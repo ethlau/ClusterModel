{
 "cells": [
  {
   "cell_type": "markdown",
   "metadata": {},
   "source": [
    "# Electron Population"
   ]
  },
  {
   "cell_type": "code",
   "execution_count": 1,
   "metadata": {},
   "outputs": [],
   "source": [
    "from matplotlib.colors import SymLogNorm\n",
    "import matplotlib\n",
    "import matplotlib.pyplot as plt\n",
    "import numpy as np\n",
    "from astropy.coordinates.sky_coordinate import SkyCoord\n",
    "import astropy.units as u\n",
    "from astropy.cosmology import Planck15 as cosmo\n",
    "from astropy import constants as const\n",
    "from astropy.wcs import WCS\n",
    "from ClusterModel import model\n",
    "from ClusterModel import model_modpar\n",
    "from ClusterModel import model_tools\n",
    "\n",
    "# Modify plotting parameters\n",
    "dict_base = {'font.size':        16,\n",
    "             'legend.fontsize':  16,\n",
    "             'xtick.labelsize':  16,\n",
    "             'ytick.labelsize':  16,\n",
    "             'axes.labelsize':   16,\n",
    "             'axes.titlesize':   16,\n",
    "             'figure.titlesize': 16,    \n",
    "             'figure.figsize':[8.0, 6.0],\n",
    "             'figure.subplot.right':0.97,\n",
    "             'figure.subplot.left':0.15,\n",
    "             'font.family':'serif',\n",
    "             'figure.facecolor': 'white',\n",
    "             'legend.frameon': True}\n",
    "plt.rcParams.update(dict_base)"
   ]
  },
  {
   "cell_type": "code",
   "execution_count": 2,
   "metadata": {},
   "outputs": [
    {
     "name": "stdout",
     "output_type": "stream",
     "text": [
      "================================================================\n",
      "                 __  __ ___ ___   _   ___   ___                 \n",
      "                |  \\/  |_ _/ __| /_\\ |   \\ / _ \\                \n",
      "                | |\\/| || | (__ / _ \\| |) | (_) |               \n",
      "                |_|  |_|___\\___/_/ \\_\\___/ \\___/                \n",
      "================================================================\n",
      " Modeling the Intra Cluster Atmosphere for Diverse Observations \n",
      "----------------------------------------------------------------\n",
      "                                                                \n",
      "Setting gNFW Planck coll. (2013) UPP.\n"
     ]
    }
   ],
   "source": [
    "clust = model.Cluster(name='Coma', \n",
    "                      redshift=0.023, M500=7e14*u.Msun, \n",
    "                      cosmology=cosmo, silent=False, \n",
    "                      output_dir='/home/astrogamma/Project/Output/TestClusterModel')\n"
   ]
  },
  {
   "cell_type": "markdown",
   "metadata": {},
   "source": [
    "# Models for Protons and Thermal Component"
   ]
  },
  {
   "cell_type": "code",
   "execution_count": 3,
   "metadata": {},
   "outputs": [
    {
     "name": "stdout",
     "output_type": "stream",
     "text": [
      "Setting coord value\n",
      "Setting density_gas_model value\n",
      "Fixing: R500\n",
      "Setting pressure_gas_model value\n",
      "Fixing: R500\n",
      "Setting spectrum_crp_model value\n",
      "Getting R500 value\n"
     ]
    }
   ],
   "source": [
    "#----- Some parameters that can be set at when defining the cluster\n",
    "clust.coord = SkyCoord(\"194.953d  27.9806d\", frame=\"icrs\", unit=\"deg\")\n",
    "\n",
    "#----- Define the relevant ICM model (available models are defined in model_modpar.py)\n",
    "\n",
    "# Density profile of the target thermal gas\n",
    "clust.density_gas_model = {'name':'beta', 'n_0':3e-3*u.cm**-3, 'beta':2.0/3, 'r_c':290*u.kpc}\n",
    "\n",
    "# Pressure profile of the target thermal gas\n",
    "clust.pressure_gas_model = {'name':'GNFW', 'P_0':2.2e-2*u.keV/u.cm**3, 'c500':2.9, 'a':1.8, 'b':3.1, 'c':0.0}\n",
    "\n",
    "# Set the cosmic ray density profile to the same shape as the thermal gas density\n",
    "clust.set_density_crp_isodens_scal_param()\n",
    "\n",
    "# Cosmic ray proton spectrum\n",
    "clust.spectrum_crp_model = {'name':'PowerLaw', 'Index':2.3}\n",
    "\n",
    "# Cosmic ray proton normalization\n",
    "clust.X_cr_E = {'X':0.01, 'R_norm':clust.R500} # X is the CRp/thermal energy ratio, normalized within R_norm"
   ]
  },
  {
   "cell_type": "markdown",
   "metadata": {},
   "source": [
    "# Primary Electron Population\n",
    "Set index = 3.81371533e+00, obtained from the Coma data fit "
   ]
  },
  {
   "cell_type": "code",
   "execution_count": 4,
   "metadata": {},
   "outputs": [
    {
     "name": "stdout",
     "output_type": "stream",
     "text": [
      "Setting spectrum_cre1_model value\n",
      "Setting density_cre1_model value\n",
      "Fixing: R500\n",
      "Getting the maximal proton energy\n"
     ]
    }
   ],
   "source": [
    "\n",
    "clust.spectrum_cre1_model = {'name':  'PowerLaw', 'Index': 3.81371533}\n",
    "                             #2.3}\n",
    "\n",
    "\n",
    "## For density you can just make the same as protons --> set it equal to the thermal gas \n",
    "clust.density_cre1_model = {'name': 'beta', 'n_0':3e-3*u.cm**-3, 'beta':2.0/3, 'r_c':290*u.kpc}\n",
    "\n",
    "#pull out some random min and max energies\n",
    "Eemin = (const.m_e *const.c**2).to('GeV')\n",
    "#clust.Epmin \n",
    "Eemax = clust.Epmax"
   ]
  },
  {
   "cell_type": "markdown",
   "metadata": {},
   "source": [
    "## Functions\n",
    "Set norm = 2.07162116e-14 , obtained from the Coma data fit "
   ]
  },
  {
   "cell_type": "code",
   "execution_count": null,
   "metadata": {},
   "outputs": [],
   "source": [
    "## Just use the avalialble generic functions\n",
    "\n",
    "clust.density_cre1_model['n_0'] = 1.0 *u.adu\n",
    "\n",
    "def get_normed_density_cre1_profile(cl = clust, rad = np.logspace(0,4,100)*u.kpc):\n",
    "    \n",
    "   # rad = model_tools.check_qarray(rad, unit = 'kpc')\n",
    "    nr = cl._get_generic_profile(rad, cl.density_cre1_model)\n",
    "    nr[rad > cl._R_truncation] *= 0 \n",
    "    \n",
    "    return rad, nr.to('adu')\n",
    "\n",
    "\n",
    "def get_normed_spectrum_cre1(cl = clust , en = np.logspace(-2,7,100)*u.GeV): \n",
    "    \n",
    "    se = cl._get_generic_spectrum(en, cl.spectrum_cre1_model)\n",
    "    se[en >Eemax] *= 0\n",
    "    se[en <Eemin] *= 0\n",
    "    \n",
    "    return en, se*u.adu\n",
    "\n",
    "\n",
    "\n",
    "A = (2.07162116e-14)/u.GeV/u.cm**3\n",
    "#1/u.GeV/u.cm**3\n",
    "\n",
    "def cre1_2d(cl = clust, en= np.logspace(-2,7,100)*u.GeV, rd =np.logspace(0,4,100)*u.kpc):\n",
    "    \n",
    "    #norm\n",
    "    #r = norm_electrons(clust)\n",
    "    #norm_electrons(cl)\n",
    "    #spatial\n",
    "    rad, fd = get_normed_density_cre1_profile(cl, rd)\n",
    "    fd2 = model_tools.replicate_array(fd.to_value('adu'), len(en), T = False )\n",
    "    #energy\n",
    "    eng, fe = get_normed_spectrum_cre1(cl, en)\n",
    "    fe2 = model_tools.replicate_array(fe.to_value('adu'), len(rd), T = True )\n",
    "    \n",
    "    spectrum= A*fd2*fe2\n",
    "     \n",
    "    return spectrum.to('GeV-1 cm-3')\n",
    "\n",
    "\n",
    "\n",
    "def density_cre1_profile(rad = np.logspace(0,4,100)*u.kpc, Emin = None, Emax = None):\n",
    "    \n",
    "    if Emin is None:\n",
    "        Emin = (const.m_e*const.c**2).to('GeV')\n",
    "    if Emax is None:\n",
    "        Emax = clust._Epmax\n",
    "    \n",
    "    #Define energy range\n",
    "    eng = model_tools.sampling_array(Emin, Emax,NptPd = clust._Npt_per_decade_integ, unit = True)\n",
    "    \n",
    "    #2D differntial spectrum\n",
    "    dN_dEdV = cre1_2d(clust, eng, rad)\n",
    "    \n",
    "    #Integrate the diffferential spectrum \n",
    "    prof = (model_tools.trapz_loglog(dN_dEdV, eng, axis = 0)).to('cm-3')\n",
    "    \n",
    "    return rad, prof \n",
    "\n",
    "\n",
    "def cre1_spectrum(energy=np.logspace(-2,7,100)*u.GeV, Rmax=None):\n",
    "    \n",
    "    energy = model_tools.check_qarray(energy, unit='GeV')\n",
    "    if Rmax is None:\n",
    "        Rmax = clust.R500\n",
    "                \n",
    "    # Define the radius for integration\n",
    "    rmin = np.amin([clust.Rmin.to_value('kpc'), Rmax.to_value('kpc')/10])*u.kpc \n",
    "    rad = model_tools.sampling_array(rmin, Rmax, NptPd= clust._Npt_per_decade_integ, unit=True)\n",
    "\n",
    "    if np.amax(rad) > clust.R_truncation:\n",
    "        rad = rad.insert(0, clust.R_truncation)\n",
    "        rad.sort()\n",
    "\n",
    "    # the differential spectrum/profile\n",
    "    dN_dEdV = cre1_2d(clust, energy, rad)\n",
    "        \n",
    "    # Integrate\n",
    "    spectrum = model_tools.trapz_loglog(4*np.pi*rad**2 * dN_dEdV, rad)\n",
    "\n",
    "    return energy, spectrum.to('GeV-1')\n"
   ]
  },
  {
   "cell_type": "markdown",
   "metadata": {},
   "source": [
    "# Plots"
   ]
  },
  {
   "cell_type": "code",
   "execution_count": null,
   "metadata": {},
   "outputs": [],
   "source": [
    "radius=np.logspace(0,4,100)*u.kpc\n",
    "energy=np.logspace(-2,7,100)*u.GeV\n",
    "\n",
    "# The simplest plots: density profile and spectrum\n",
    "plt.figure(figsize=(15,6))\n",
    "plt.subplot(121)\n",
    "\n",
    "a ,b = get_normed_density_cre1_profile(clust, radius)\n",
    "plt.loglog(a,b, label='basic density profile')\n",
    "\n",
    "plt.xlabel('density ')\n",
    "plt.ylabel('SE')\n",
    "plt.legend()\n",
    "\n",
    "\n",
    "plt.subplot(122)\n",
    "c, d = get_normed_spectrum_cre1(clust,energy)\n",
    "plt.loglog(c,d,label = 'basic spectrum')\n",
    "plt.xlabel('energy')\n",
    "plt.legend()"
   ]
  },
  {
   "cell_type": "code",
   "execution_count": null,
   "metadata": {},
   "outputs": [],
   "source": [
    "plt.figure(figsize=(15,6))\n",
    "plt.subplot(121)\n",
    "\n",
    "r, n_cre_r = density_cre1_profile()\n",
    "plt.loglog(r, n_cre_r, label='CRe density ')\n",
    "r, n_cre_r2 = get_normed_density_cre1_profile()\n",
    "plt.loglog(r, n_cre_r2, '--', label='CRe density normed')\n",
    "\n",
    "plt.xlabel('radius (kpc)')\n",
    "plt.ylabel('Density (cm$^{-3}$)')\n",
    "plt.legend()\n",
    "\n",
    "\n",
    "plt.subplot(122)\n",
    "e, n_cre_rs = cre1_spectrum()\n",
    "plt.loglog(e, n_cre_rs,  label='CRe spectrum')\n",
    "e, n_cre_rs2 = get_normed_spectrum_cre1()\n",
    "plt.loglog(e, n_cre_rs2, label = 'CRe spectrum normed')\n",
    "plt.xlabel('energy (GeV)')\n",
    "\n",
    "plt.legend()"
   ]
  },
  {
   "cell_type": "markdown",
   "metadata": {},
   "source": [
    "# Total Energy stored in CRe"
   ]
  },
  {
   "cell_type": "code",
   "execution_count": null,
   "metadata": {},
   "outputs": [],
   "source": [
    "#Energy in spectrum\n",
    "eng = model_tools.sampling_array(Eemin , Eemax, NptPd=clust._Npt_per_decade_integ, unit=True)\n",
    "\n",
    "#eng, Fe = get_normed_spectrum_cre1(clust, eng)\n",
    "#Integ_e = model_tools.trapz_loglog( eng* Fe.to_value('adu'), eng)\n",
    "\n",
    "\n",
    "eng, Fe = cre1_spectrum(eng)\n",
    "Integ_e = model_tools.trapz_loglog( eng* Fe, eng)\n",
    "Integ_e"
   ]
  },
  {
   "cell_type": "markdown",
   "metadata": {},
   "source": [
    "## Total Energy in CRp"
   ]
  },
  {
   "cell_type": "code",
   "execution_count": null,
   "metadata": {},
   "outputs": [],
   "source": [
    "#PRoton energy\n",
    "\n",
    "eng, Fp = clust.get_crp_spectrum()\n",
    "Integ_p = model_tools.trapz_loglog( eng* Fp, eng)\n",
    "Integ_p\n"
   ]
  },
  {
   "cell_type": "markdown",
   "metadata": {},
   "source": [
    "## Total thermal energy"
   ]
  },
  {
   "cell_type": "code",
   "execution_count": null,
   "metadata": {},
   "outputs": [],
   "source": [
    "rad, ene = clust.get_thermal_energy_profile(clust.R500)\n",
    "ene = ene.to('GeV')\n",
    "ene"
   ]
  },
  {
   "cell_type": "markdown",
   "metadata": {},
   "source": [
    "## Ratio of CRe/Th Energies"
   ]
  },
  {
   "cell_type": "code",
   "execution_count": null,
   "metadata": {},
   "outputs": [],
   "source": [
    "X_cre_E = float(Integ_e/ene)\n",
    "print \"For electrons the ratio is \", X_cre_E\n",
    "print \"For protons the ratio is \", clust._X_crp_E['X']"
   ]
  },
  {
   "cell_type": "markdown",
   "metadata": {},
   "source": [
    "## Check with Sync"
   ]
  },
  {
   "cell_type": "code",
   "execution_count": null,
   "metadata": {},
   "outputs": [],
   "source": [
    "from ClusterModel.ClusterTools import cluster_electron_emission as emi\n",
    "\n",
    "\n",
    "def rate_sync(energy = np.logspace(-9,-2,100)*u.eV, radius = np.logspace(0,4,100)*u.kpc ):\n",
    "    \n",
    "    #Get Magnetic field\n",
    "    radius, B = clust.get_magfield_profile(radius)\n",
    "    \n",
    "    #Define Je: \n",
    "    def Je2(rad, eng): return cre1_2d(clust, eng*u.GeV, rad*u.kpc).to_value('GeV-1 cm-3').T\n",
    "\n",
    "\n",
    "    #rad*u.kpc\n",
    "    \n",
    "    \n",
    "    #Use the class\n",
    "    model =  emi.ClusterElectronEmission (Je = Je2,Eemin=(const.m_e*const.c**2).to('GeV'), NptEePd=clust._Npt_per_decade_integ)\n",
    "    rate = model.synchrotron( energy, radius_input = radius, B=B).T\n",
    "    \n",
    "    return rate.to('GeV-1 cm-3 s-1')"
   ]
  },
  {
   "cell_type": "code",
   "execution_count": null,
   "metadata": {},
   "outputs": [],
   "source": [
    "default = clust.get_rate_synchrotron()\n",
    "dN_dEdVdt = rate_sync()\n",
    "\n"
   ]
  },
  {
   "cell_type": "code",
   "execution_count": null,
   "metadata": {},
   "outputs": [],
   "source": [
    "plt.figure(figsize=(15,6))\n",
    "plt.subplot(121)\n",
    "plt.loglog(default)\n",
    "plt.title(\"default 2ndary Electrons\")\n",
    "\n",
    "plt.subplot(122)\n",
    "plt.loglog(dN_dEdVdt)\n",
    "plt.title(\"Rate for Primary Electrons\")\n",
    "\n"
   ]
  },
  {
   "cell_type": "code",
   "execution_count": null,
   "metadata": {},
   "outputs": [],
   "source": [
    "def sync_spectrum( freq = np.logspace(-3,2,100)*u.GHz):\n",
    "    \n",
    "    '''Uses Primary Electron population via rate_sync() and multiplies the result by the norm\n",
    "    '''\n",
    "    \n",
    "    #Get energy\n",
    "    #freq = model_tools.check_qarray(freq, unit='GHz')\n",
    "    energy = (const.h*freq).to('eV')\n",
    "    \n",
    " \n",
    "    Rmin = clust._Rmin\n",
    "    \n",
    "    Rmax = clust._R500\n",
    "        \n",
    "\n",
    "\n",
    "    #sample radius\n",
    "    rad = model_tools.sampling_array(Rmin, Rmax, NptPd = clust._Npt_per_decade_integ, unit = True)\n",
    "    #Use rate sync to get synchotron rate\n",
    "   \n",
    "    dNdEdVdt = rate_sync(energy, rad)\n",
    "    #integrate spherically\n",
    "    dNdEdt = model_tools.spherical_integration(dNdEdVdt, rad)\n",
    "    \n",
    "    #This gave us luminosity; now get flux \n",
    "    dNdEdSdt = dNdEdt / (4*np.pi * clust._D_lum**2)\n",
    "    \n",
    "    #Convert to Jy \n",
    "    return freq, (dNdEdSdt*energy**2 / freq).to('Jy')\n",
    "\n"
   ]
  },
  {
   "cell_type": "code",
   "execution_count": null,
   "metadata": {},
   "outputs": [],
   "source": [
    "# Radio total flux [Thierbach et al (2003)]:\n",
    "\n",
    "dat_freq = np.array([30.9,43,73.8,151,326,408,430,608.5,1380,1400,2675,2700,4850])*u.MHz\n",
    "dat_flux = np.array([49,51,17,7.2,3.81,2.0,2.55,1.2,0.53,0.64,0.11,0.07,0.03])*u.Jy\n",
    "dat_err  = np.array([10,13,12,0.8,0.03,0.2,0.28,0.3,0.05,0.035,0.03,0.02,0.01])*u.Jy"
   ]
  },
  {
   "cell_type": "code",
   "execution_count": null,
   "metadata": {},
   "outputs": [],
   "source": [
    "\n",
    "dat_freq = dat_freq.to('GHz')\n",
    "## SyncFit , norm set \n",
    "def syncfit(x):\n",
    "    return sync_spectrum(x)[1]\n",
    "\n",
    "\n",
    "trial2 = syncfit(dat_freq)\n",
    "\n",
    "plt.figure(figsize=(15,10))\n",
    "##DATA\n",
    "plt.loglog(dat_freq,dat_flux,\".\", label = \"data\")\n",
    "#PRIMARY Sync Fit\n",
    "plt.loglog(dat_freq, trial2, \"-\", label = \"CRe1 Sync Fit \")\n",
    "\n",
    "plt.xlabel(dat_freq.unit)\n",
    "plt.legend()\n",
    "plt.show()"
   ]
  },
  {
   "cell_type": "code",
   "execution_count": null,
   "metadata": {},
   "outputs": [],
   "source": []
  }
 ],
 "metadata": {
  "kernelspec": {
   "display_name": "Python 2",
   "language": "python",
   "name": "python2"
  },
  "language_info": {
   "codemirror_mode": {
    "name": "ipython",
    "version": 2
   },
   "file_extension": ".py",
   "mimetype": "text/x-python",
   "name": "python",
   "nbconvert_exporter": "python",
   "pygments_lexer": "ipython2",
   "version": "2.7.17"
  }
 },
 "nbformat": 4,
 "nbformat_minor": 2
}
