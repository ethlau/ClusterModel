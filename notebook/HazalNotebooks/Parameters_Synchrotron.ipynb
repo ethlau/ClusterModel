{
 "cells": [
  {
   "cell_type": "markdown",
   "metadata": {},
   "source": [
    "# Parameter Space\n",
    "Change parameters and see how observables change\n"
   ]
  },
  {
   "cell_type": "code",
   "execution_count": 1,
   "metadata": {},
   "outputs": [],
   "source": [
    "from matplotlib.colors import SymLogNorm\n",
    "import matplotlib\n",
    "import matplotlib.pyplot as plt\n",
    "import numpy as np\n",
    "from astropy.coordinates.sky_coordinate import SkyCoord\n",
    "import astropy.units as u\n",
    "from astropy.cosmology import Planck15 as cosmo\n",
    "from astropy import constants as const\n",
    "from astropy.wcs import WCS\n",
    "from ClusterModel import model\n",
    "from ClusterModel import model_modpar\n",
    "from ClusterModel import model_tools\n",
    "\n",
    "\n",
    "# Modify plotting parameters\n",
    "dict_base = {'font.size':        16,\n",
    "             'legend.fontsize':  16,\n",
    "             'xtick.labelsize':  16,\n",
    "             'ytick.labelsize':  16,\n",
    "             'axes.labelsize':   16,\n",
    "             'axes.titlesize':   16,\n",
    "             'figure.titlesize': 16,    \n",
    "             'figure.figsize':[8.0, 6.0],\n",
    "             'figure.subplot.right':0.97,\n",
    "             'figure.subplot.left':0.15,\n",
    "             'font.family':'serif',\n",
    "             'figure.facecolor': 'white',\n",
    "             'legend.frameon': True}\n",
    "plt.rcParams.update(dict_base)"
   ]
  },
  {
   "cell_type": "code",
   "execution_count": null,
   "metadata": {},
   "outputs": [],
   "source": [
    "clust = model.Cluster(name='Coma', \n",
    "                      redshift=0.023, M500=7e14*u.Msun, \n",
    "                      cosmology=cosmo, silent=False, \n",
    "                      output_dir='/home/astrogamma/Project/Output/TestClusterModel')\n"
   ]
  },
  {
   "cell_type": "code",
   "execution_count": null,
   "metadata": {},
   "outputs": [],
   "source": [
    "clust.print_param()"
   ]
  },
  {
   "cell_type": "markdown",
   "metadata": {},
   "source": [
    "# Synchrotron\n",
    "Depends on magnetic field profile, density profile of electrons qnd spectrum of electrons"
   ]
  },
  {
   "cell_type": "code",
   "execution_count": null,
   "metadata": {},
   "outputs": [],
   "source": [
    "clust._X_cre1_E\n",
    "clust._X_crp_E\n",
    "print \"When the density cre1 model is \",clust._density_cre1_model[\"name\"]\n",
    "print \"When the density crp model is \",clust._density_crp_model[\"name\"]\n",
    "print \"When the magfield model is \",clust._magfield_model[\"name\"]\n",
    "print \"When the spectrum cre1 model is \",clust._spectrum_cre1_model[\"name\"]\n",
    "print \"When the spectrum crp model is \",clust._spectrum_crp_model[\"name\"]"
   ]
  },
  {
   "cell_type": "code",
   "execution_count": null,
   "metadata": {},
   "outputs": [],
   "source": [
    "clust._magfield_model"
   ]
  },
  {
   "cell_type": "markdown",
   "metadata": {},
   "source": [
    "## Units, creating quantities"
   ]
  },
  {
   "cell_type": "code",
   "execution_count": null,
   "metadata": {},
   "outputs": [],
   "source": [
    "a = 472.23041914*u.kpc\n",
    "type(a)\n",
    "b = a.to_value('kpc')\n",
    "type(b)\n",
    "c = a.to('km')\n",
    "type(c)"
   ]
  },
  {
   "cell_type": "markdown",
   "metadata": {},
   "source": [
    "## Constant field, vary P0 "
   ]
  },
  {
   "cell_type": "code",
   "execution_count": null,
   "metadata": {},
   "outputs": [],
   "source": [
    "clust._magfield_model['P_0']= 10*u.uG\n",
    "clust._magfield_model['a']= 10\n",
    "clust._magfield_model['b']= 0\n",
    "clust._magfield_model['c']= 0\n",
    "#clust.pressure_gas_model = {'name':'GNFW', 'P_0':2.2e-2*u.keV/u.cm**3, 'c500':2.9, 'a':1.8, 'b':3.1, 'c':0.0}\n",
    "rad, B = clust.get_magfield_profile(radius = np.logspace(0,4,100)*u.kpc)\n",
    "plt.loglog(rad,B)"
   ]
  },
  {
   "cell_type": "code",
   "execution_count": null,
   "metadata": {},
   "outputs": [],
   "source": [
    "\n",
    "plt.figure(1, figsize=(15,10))\n",
    "\n",
    "\n",
    "plt.subplot(131)\n",
    "clust._magfield_model['P_0']= 10*u.uG\n",
    "bid, s1 = clust.get_synchrotron_spectrum( )\n",
    "plt.loglog(bid, s1)\n",
    "plt.ylabel((s1).unit)\n",
    "plt.title(\"10 uG\")\n",
    "plt.legend()\n",
    "\n",
    "\n",
    "plt.subplot(132)\n",
    "clust._magfield_model['P_0']= 5*u.uG\n",
    "bid, s1 = clust.get_synchrotron_spectrum()\n",
    "plt.loglog(bid, s1)\n",
    "plt.ylabel((s1).unit)\n",
    "plt.title(\"5 uG\")\n",
    "plt.legend()\n",
    "\n",
    "plt.subplot(133)\n",
    "clust._magfield_model['P_0']= 0.01*u.uG\n",
    "bid, s1 = clust.get_synchrotron_spectrum()\n",
    "plt.loglog(bid, s1)\n",
    "plt.ylabel((s1).unit)\n",
    "plt.title(\"0.01 uG\")\n",
    "plt.legend()\n",
    "\n"
   ]
  },
  {
   "cell_type": "markdown",
   "metadata": {},
   "source": [
    "## Field not constant: Vary the slope"
   ]
  },
  {
   "cell_type": "code",
   "execution_count": null,
   "metadata": {},
   "outputs": [],
   "source": [
    "clust._magfield_model['P_0']= 10*u.uG\n",
    "clust._magfield_model['a']= 1.8\n",
    "clust._magfield_model['b']= 3\n",
    "clust._magfield_model['c']= 0.03\n",
    "\n",
    "rad, B = clust.get_magfield_profile(radius = np.logspace(0,4,100)*u.kpc)\n",
    "plt.plot(rad,B)"
   ]
  },
  {
   "cell_type": "code",
   "execution_count": null,
   "metadata": {},
   "outputs": [],
   "source": [
    "\n",
    "plt.figure(1, figsize=(15,10))\n",
    "\n",
    "\n",
    "plt.subplot(131)\n",
    "clust._magfield_model['P_0']= 10*u.uG\n",
    "clust._magfield_model['a']= 10\n",
    "clust._magfield_model['b']= 0\n",
    "clust._magfield_model['c']= 0\n",
    "bid, s1 = clust.get_synchrotron_spectrum()\n",
    "plt.loglog(bid, s1)\n",
    "plt.ylabel((s1).unit)\n",
    "plt.title(\"Constant B\")\n",
    "plt.legend()\n",
    "\n",
    "\n",
    "plt.subplot(132)\n",
    "clust._magfield_model['a']= 1.8\n",
    "clust._magfield_model['b']= 3\n",
    "clust._magfield_model['c']= 0.2\n",
    "bid, s1 = clust.get_synchrotron_spectrum()\n",
    "plt.loglog(bid, s1)\n",
    "plt.ylabel((s1).unit)\n",
    "#plt.title(\"\")\n",
    "plt.legend()\n",
    "\n",
    "plt.subplot(133)\n",
    "clust.X_crp_E['X']= 0\n",
    "\n",
    "clust._magfield_model['a']= 1.8\n",
    "clust._magfield_model['b']= 30\n",
    "clust._magfield_model['c']= 0.2\n",
    "bid, s1 = clust.get_synchrotron_spectrum()\n",
    "plt.loglog(bid, s1)\n",
    "plt.ylabel((s1).unit)\n",
    "plt.title(\"Primary Electrons\")\n",
    "plt.legend()\n"
   ]
  },
  {
   "cell_type": "markdown",
   "metadata": {},
   "source": [
    "## Primary Electrons, vary Density "
   ]
  },
  {
   "cell_type": "code",
   "execution_count": null,
   "metadata": {},
   "outputs": [],
   "source": [
    "clust.X_crp_E['X']= 0\n",
    "clust.X_cre1_E['X'] = 0.01"
   ]
  },
  {
   "cell_type": "code",
   "execution_count": null,
   "metadata": {},
   "outputs": [],
   "source": [
    "clust._density_cre1_model"
   ]
  },
  {
   "cell_type": "code",
   "execution_count": null,
   "metadata": {},
   "outputs": [],
   "source": [
    "clust._density_cre1_model['P_0'] = 1*u.adu\n",
    "rad, n = clust.get_normed_density_cre1_profile()\n",
    "plt.loglog(rad,n)"
   ]
  },
  {
   "cell_type": "code",
   "execution_count": null,
   "metadata": {},
   "outputs": [],
   "source": [
    "plt.figure(1, figsize=(15,7))\n",
    "\n",
    "\n",
    "plt.subplot(131)\n",
    "bid, s1 = clust.get_synchrotron_spectrum()\n",
    "plt.loglog(bid, s1)\n",
    "plt.ylabel((s1).unit)\n",
    "plt.title(\"Constant B\")\n",
    "plt.legend()\n",
    "\n",
    "\n",
    "plt.subplot(132)\n",
    "clust._density_cre1_model['P_0'] = 100000*u.adu\n",
    "bid, s1 = clust.get_synchrotron_spectrum()\n",
    "plt.loglog(bid, s1)\n",
    "plt.ylabel((s1).unit)\n",
    "#plt.title(\"\")\n",
    "plt.legend()\n",
    "\n",
    "plt.subplot(133)\n",
    "clust._density_cre1_model['P_0'] = 0.01*u.adu\n",
    "bid, s1 = clust.get_synchrotron_spectrum()\n",
    "plt.loglog(bid, s1)\n",
    "plt.ylabel((s1).unit)\n",
    "plt.title(\"Primary Electrons\")\n",
    "plt.legend()\n"
   ]
  },
  {
   "cell_type": "markdown",
   "metadata": {},
   "source": [
    "### Why does it not change? cre1_2d uses the density profile!"
   ]
  },
  {
   "cell_type": "markdown",
   "metadata": {},
   "source": [
    "## Primary Electrons, Spectrum"
   ]
  },
  {
   "cell_type": "code",
   "execution_count": null,
   "metadata": {},
   "outputs": [],
   "source": [
    "clust.spectrum_cre1_model"
   ]
  },
  {
   "cell_type": "code",
   "execution_count": null,
   "metadata": {},
   "outputs": [],
   "source": [
    "#clust.spectrum_cre1_model['Index']= 3.5\n",
    "g, h = clust.get_normed_cre1_spectrum()\n",
    "plt.loglog(g,h, label = 'basic spectrum new')                         "
   ]
  },
  {
   "cell_type": "code",
   "execution_count": null,
   "metadata": {},
   "outputs": [],
   "source": [
    "plt.figure(1, figsize=(15,7))\n",
    "\n",
    "\n",
    "plt.subplot(131)\n",
    "clust.spectrum_cre1_model['Index']= 2.8\n",
    "bid, s1 = clust.get_synchrotron_spectrum()\n",
    "plt.loglog(bid, s1)\n",
    "plt.ylabel((s1).unit)\n",
    "plt.legend()\n",
    "\n",
    "\n",
    "plt.subplot(132)\n",
    "clust.spectrum_cre1_model['Index']= 2\n",
    "bid, s1 = clust.get_synchrotron_spectrum()\n",
    "plt.loglog(bid, s1)\n",
    "plt.ylabel((s1).unit)\n",
    "#plt.title(\"\")\n",
    "plt.legend()\n",
    "\n",
    "plt.subplot(133)\n",
    "clust.spectrum_cre1_model['Index']= 1\n",
    "bid, s1 = clust.get_synchrotron_spectrum()\n",
    "plt.loglog(bid, s1)\n",
    "plt.ylabel((s1).unit)\n",
    "plt.legend()\n"
   ]
  },
  {
   "cell_type": "markdown",
   "metadata": {},
   "source": [
    "### Index of spectrum changes emission: smaller index means more emission -- WHY?"
   ]
  },
  {
   "cell_type": "markdown",
   "metadata": {},
   "source": [
    "# Protons, Density"
   ]
  },
  {
   "cell_type": "code",
   "execution_count": null,
   "metadata": {},
   "outputs": [],
   "source": [
    "clust.X_crp_E['X']= 0.01\n",
    "clust.X_cre1_E['X'] = 0.0"
   ]
  },
  {
   "cell_type": "code",
   "execution_count": null,
   "metadata": {},
   "outputs": [],
   "source": [
    "plt.figure(1, figsize=(15,7))\n",
    "\n",
    "\n",
    "plt.subplot(131)\n",
    "bid, s1 = clust.get_synchrotron_spectrum()\n",
    "plt.loglog(bid, s1)\n",
    "plt.ylabel((s1).unit)\n",
    "plt.legend()\n",
    "\n",
    "\n",
    "plt.subplot(132)\n",
    "clust._density_crp_model['P_0'] = 100000*u.adu\n",
    "bid, s1 = clust.get_synchrotron_spectrum()\n",
    "plt.loglog(bid, s1)\n",
    "plt.ylabel((s1).unit)\n",
    "#plt.title(\"\")\n",
    "plt.legend()\n",
    "\n",
    "plt.subplot(133)\n",
    "clust._density_crp_model['P_0'] = 0.01*u.adu\n",
    "bid, s1 = clust.get_synchrotron_spectrum()\n",
    "plt.loglog(bid, s1)\n",
    "plt.ylabel((s1).unit)\n",
    "plt.legend()\n"
   ]
  },
  {
   "cell_type": "markdown",
   "metadata": {},
   "source": [
    "## Protons, Spectrum"
   ]
  },
  {
   "cell_type": "code",
   "execution_count": null,
   "metadata": {},
   "outputs": [],
   "source": [
    "(const.m_p*const.c**2).to('GeV')"
   ]
  },
  {
   "cell_type": "code",
   "execution_count": null,
   "metadata": {},
   "outputs": [],
   "source": [
    "plt.figure(1, figsize=(15,7))\n",
    "\n",
    "\n",
    "plt.subplot(131)\n",
    "clust.spectrum_crp_model['Index']= 2.8\n",
    "bid, s1 = clust.get_synchrotron_spectrum()\n",
    "plt.loglog(bid, s1)\n",
    "plt.ylabel((s1).unit)\n",
    "plt.legend()\n",
    "\n",
    "\n",
    "plt.subplot(132)\n",
    "clust.spectrum_crp_model['Index']= 4\n",
    "bid, s1 = clust.get_synchrotron_spectrum()\n",
    "plt.loglog(bid, s1)\n",
    "plt.ylabel((s1).unit)\n",
    "#plt.title(\"\")\n",
    "plt.legend()\n",
    "\n",
    "plt.subplot(133)\n",
    "\n",
    "clust.spectrum_crp_model['name'] = 'ExponentialCutoffPowerLaw'\n",
    "clust.spectrum_crp_model['Index']= 2\n",
    "clust.spectrum_crp_model['CutoffEnergy'] = 10**4*u.GeV\n",
    "bid, s1 = clust.get_synchrotron_spectrum()\n",
    "plt.loglog(bid, s1)\n",
    "plt.ylabel((s1).unit)\n",
    "plt.legend()\n"
   ]
  },
  {
   "cell_type": "markdown",
   "metadata": {},
   "source": [
    "## Fit\n",
    "Fix index and take the automatic B\n",
    "- Fit for Xrp Xpe"
   ]
  },
  {
   "cell_type": "code",
   "execution_count": null,
   "metadata": {},
   "outputs": [],
   "source": [
    "dat_freq = np.array([30.9,43,73.8,151,326,408,430,608.5,1380,1400,2675,2700,4850])*u.MHz\n",
    "dat_flux = np.array([49,51,17,7.2,3.81,2.0,2.55,1.2,0.53,0.64,0.11,0.07,0.03])*u.Jy\n",
    "dat_err  = np.array([10,13,12,0.8,0.03,0.2,0.28,0.3,0.05,0.035,0.03,0.02,0.01])*u.Jy\n",
    "\n",
    "from scipy import optimize\n",
    "\n",
    "dat_freq = dat_freq.to('GHz')"
   ]
  },
  {
   "cell_type": "code",
   "execution_count": null,
   "metadata": {},
   "outputs": [],
   "source": [
    "clust.silent = True\n",
    "\n",
    "def syncfitPrimary(x, Xe, ind):\n",
    "    clust.X_crp_E = {'X':0.0, 'R_norm': clust.R500}\n",
    "    clust.X_cre1_E = {'X':Xe, 'R_norm': clust.R500}\n",
    "    clust.spectrum_cre1_model = {'name':'PowerLaw', 'Index':ind }\n",
    "    return clust.get_synchrotron_spectrum(x*u.GHz)[1].to_value('Jy')\n",
    "\n",
    "\n",
    "params1, params_covariance = optimize.curve_fit(syncfitPrimary, dat_freq.to_value('GHz'), dat_flux.to_value('Jy'), \n",
    "                                               sigma = dat_err.to_value('Jy'),\n",
    "                                               p0=[0.001, 3])\n",
    "\n",
    "print \"Primary Electron Parameters: \", (params1)"
   ]
  },
  {
   "cell_type": "code",
   "execution_count": null,
   "metadata": {},
   "outputs": [],
   "source": []
  }
 ],
 "metadata": {
  "kernelspec": {
   "display_name": "Python 2",
   "language": "python",
   "name": "python2"
  },
  "language_info": {
   "codemirror_mode": {
    "name": "ipython",
    "version": 2
   },
   "file_extension": ".py",
   "mimetype": "text/x-python",
   "name": "python",
   "nbconvert_exporter": "python",
   "pygments_lexer": "ipython2",
   "version": "2.7.17"
  }
 },
 "nbformat": 4,
 "nbformat_minor": 2
}
