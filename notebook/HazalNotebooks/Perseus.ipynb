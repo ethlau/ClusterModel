{
 "cells": [
  {
   "cell_type": "code",
   "execution_count": 1,
   "metadata": {},
   "outputs": [],
   "source": [
    "from matplotlib.colors import SymLogNorm\n",
    "import matplotlib\n",
    "import matplotlib.pyplot as plt\n",
    "import numpy as np\n",
    "import pandas\n",
    "from scipy import optimize\n",
    "from astropy.coordinates.sky_coordinate import SkyCoord\n",
    "import astropy.units as u\n",
    "from astropy.cosmology import Planck15 as cosmo\n",
    "from astropy import constants as const\n",
    "from astropy.wcs import WCS\n",
    "from ClusterModel import model\n",
    "from ClusterModel import model_modpar\n",
    "from ClusterModel import model_tools\n",
    "\n",
    "# Modify plotting parameters\n",
    "dict_base = {'font.size':        16,\n",
    "             'legend.fontsize':  16,\n",
    "             'xtick.labelsize':  16,\n",
    "             'ytick.labelsize':  16,\n",
    "             'axes.labelsize':   16,\n",
    "             'axes.titlesize':   16,\n",
    "             'figure.titlesize': 16,    \n",
    "             'figure.figsize':[8.0, 6.0],\n",
    "             'figure.subplot.right':0.97,\n",
    "             'figure.subplot.left':0.15,\n",
    "             'font.family':'serif',\n",
    "             'figure.facecolor': 'white',\n",
    "             'legend.frameon': True}\n",
    "plt.rcParams.update(dict_base)"
   ]
  },
  {
   "cell_type": "code",
   "execution_count": 2,
   "metadata": {},
   "outputs": [],
   "source": [
    "clust = model.Cluster(name='Perseus', \n",
    "                      redshift=0.0179, M500=7e14*u.Msun, \n",
    "                      cosmology=cosmo, silent=True, \n",
    "                      output_dir='/home/astrogamma/Project/Output/TestClusterModel')\n",
    "\n",
    "\n",
    "clust.Npt_per_decade_integ = 20\n"
   ]
  },
  {
   "cell_type": "code",
   "execution_count": 3,
   "metadata": {},
   "outputs": [],
   "source": [
    "prof = pandas.read_csv('Perseus_radio_profile.txt', header=None, skiprows=1, index_col=False,\n",
    "                     names=['r', 'logF', 'err_m', 'err_p'])\n",
    "spec = pandas.read_csv('Perseus_radio_spectrum.txt', header=None, skiprows=1, index_col=False,\n",
    "                     names=['logNu', 'logF', 'err'])"
   ]
  },
  {
   "cell_type": "code",
   "execution_count": 11,
   "metadata": {},
   "outputs": [
    {
     "data": {
      "text/html": [
       "<div>\n",
       "<style scoped>\n",
       "    .dataframe tbody tr th:only-of-type {\n",
       "        vertical-align: middle;\n",
       "    }\n",
       "\n",
       "    .dataframe tbody tr th {\n",
       "        vertical-align: top;\n",
       "    }\n",
       "\n",
       "    .dataframe thead th {\n",
       "        text-align: right;\n",
       "    }\n",
       "</style>\n",
       "<table border=\"1\" class=\"dataframe\">\n",
       "  <thead>\n",
       "    <tr style=\"text-align: right;\">\n",
       "      <th></th>\n",
       "      <th>r</th>\n",
       "      <th>logF</th>\n",
       "      <th>err_m</th>\n",
       "      <th>err_p</th>\n",
       "    </tr>\n",
       "  </thead>\n",
       "  <tbody>\n",
       "    <tr>\n",
       "      <th>0</th>\n",
       "      <td>14.035750</td>\n",
       "      <td>1.166074</td>\n",
       "      <td>0.035423</td>\n",
       "      <td>0.031474</td>\n",
       "    </tr>\n",
       "    <tr>\n",
       "      <th>1</th>\n",
       "      <td>28.156246</td>\n",
       "      <td>0.869864</td>\n",
       "      <td>0.316204</td>\n",
       "      <td>0.023728</td>\n",
       "    </tr>\n",
       "    <tr>\n",
       "      <th>2</th>\n",
       "      <td>39.071799</td>\n",
       "      <td>0.565696</td>\n",
       "      <td>0.699594</td>\n",
       "      <td>0.027676</td>\n",
       "    </tr>\n",
       "    <tr>\n",
       "      <th>3</th>\n",
       "      <td>42.567272</td>\n",
       "      <td>0.360220</td>\n",
       "      <td>0.509855</td>\n",
       "      <td>0.169964</td>\n",
       "    </tr>\n",
       "    <tr>\n",
       "      <th>4</th>\n",
       "      <td>53.464952</td>\n",
       "      <td>0.143008</td>\n",
       "      <td>0.414990</td>\n",
       "      <td>0.023715</td>\n",
       "    </tr>\n",
       "    <tr>\n",
       "      <th>5</th>\n",
       "      <td>67.827232</td>\n",
       "      <td>-0.129482</td>\n",
       "      <td>0.324085</td>\n",
       "      <td>0.027648</td>\n",
       "    </tr>\n",
       "    <tr>\n",
       "      <th>6</th>\n",
       "      <td>81.913604</td>\n",
       "      <td>-0.259685</td>\n",
       "      <td>0.486156</td>\n",
       "      <td>0.102803</td>\n",
       "    </tr>\n",
       "    <tr>\n",
       "      <th>7</th>\n",
       "      <td>92.802347</td>\n",
       "      <td>-0.433419</td>\n",
       "      <td>0.719345</td>\n",
       "      <td>0.154170</td>\n",
       "    </tr>\n",
       "    <tr>\n",
       "      <th>8</th>\n",
       "      <td>110.622727</td>\n",
       "      <td>-0.729568</td>\n",
       "      <td>0.454560</td>\n",
       "      <td>0.403169</td>\n",
       "    </tr>\n",
       "    <tr>\n",
       "      <th>9</th>\n",
       "      <td>128.444732</td>\n",
       "      <td>-1.033622</td>\n",
       "      <td>0.237145</td>\n",
       "      <td>0.616615</td>\n",
       "    </tr>\n",
       "    <tr>\n",
       "      <th>10</th>\n",
       "      <td>139.318039</td>\n",
       "      <td>-1.132258</td>\n",
       "      <td>0.316204</td>\n",
       "      <td>0.707512</td>\n",
       "    </tr>\n",
       "    <tr>\n",
       "      <th>11</th>\n",
       "      <td>153.650258</td>\n",
       "      <td>-1.258504</td>\n",
       "      <td>0.193675</td>\n",
       "      <td>0.517785</td>\n",
       "    </tr>\n",
       "    <tr>\n",
       "      <th>12</th>\n",
       "      <td>167.992226</td>\n",
       "      <td>-1.432181</td>\n",
       "      <td>0.312244</td>\n",
       "      <td>0.391299</td>\n",
       "    </tr>\n",
       "    <tr>\n",
       "      <th>13</th>\n",
       "      <td>185.814231</td>\n",
       "      <td>-1.736235</td>\n",
       "      <td>0.221307</td>\n",
       "      <td>0.466398</td>\n",
       "    </tr>\n",
       "    <tr>\n",
       "      <th>14</th>\n",
       "      <td>192.986840</td>\n",
       "      <td>-1.830978</td>\n",
       "      <td>0.308275</td>\n",
       "      <td>0.565199</td>\n",
       "    </tr>\n",
       "    <tr>\n",
       "      <th>15</th>\n",
       "      <td>203.865834</td>\n",
       "      <td>-1.957282</td>\n",
       "      <td>0.490101</td>\n",
       "      <td>0.193663</td>\n",
       "    </tr>\n",
       "    <tr>\n",
       "      <th>16</th>\n",
       "      <td>218.207802</td>\n",
       "      <td>-2.130958</td>\n",
       "      <td>0.316180</td>\n",
       "      <td>0.699590</td>\n",
       "    </tr>\n",
       "    <tr>\n",
       "      <th>17</th>\n",
       "      <td>239.483033</td>\n",
       "      <td>-2.434956</td>\n",
       "      <td>0.031470</td>\n",
       "      <td>0.996032</td>\n",
       "    </tr>\n",
       "  </tbody>\n",
       "</table>\n",
       "</div>"
      ],
      "text/plain": [
       "             r      logF     err_m     err_p\n",
       "0    14.035750  1.166074  0.035423  0.031474\n",
       "1    28.156246  0.869864  0.316204  0.023728\n",
       "2    39.071799  0.565696  0.699594  0.027676\n",
       "3    42.567272  0.360220  0.509855  0.169964\n",
       "4    53.464952  0.143008  0.414990  0.023715\n",
       "5    67.827232 -0.129482  0.324085  0.027648\n",
       "6    81.913604 -0.259685  0.486156  0.102803\n",
       "7    92.802347 -0.433419  0.719345  0.154170\n",
       "8   110.622727 -0.729568  0.454560  0.403169\n",
       "9   128.444732 -1.033622  0.237145  0.616615\n",
       "10  139.318039 -1.132258  0.316204  0.707512\n",
       "11  153.650258 -1.258504  0.193675  0.517785\n",
       "12  167.992226 -1.432181  0.312244  0.391299\n",
       "13  185.814231 -1.736235  0.221307  0.466398\n",
       "14  192.986840 -1.830978  0.308275  0.565199\n",
       "15  203.865834 -1.957282  0.490101  0.193663\n",
       "16  218.207802 -2.130958  0.316180  0.699590\n",
       "17  239.483033 -2.434956  0.031470  0.996032"
      ]
     },
     "execution_count": 11,
     "metadata": {},
     "output_type": "execute_result"
    }
   ],
   "source": [
    "prof"
   ]
  },
  {
   "cell_type": "code",
   "execution_count": 10,
   "metadata": {},
   "outputs": [
    {
     "data": {
      "text/html": [
       "<div>\n",
       "<style scoped>\n",
       "    .dataframe tbody tr th:only-of-type {\n",
       "        vertical-align: middle;\n",
       "    }\n",
       "\n",
       "    .dataframe tbody tr th {\n",
       "        vertical-align: top;\n",
       "    }\n",
       "\n",
       "    .dataframe thead th {\n",
       "        text-align: right;\n",
       "    }\n",
       "</style>\n",
       "<table border=\"1\" class=\"dataframe\">\n",
       "  <thead>\n",
       "    <tr style=\"text-align: right;\">\n",
       "      <th></th>\n",
       "      <th>logNu</th>\n",
       "      <th>logF</th>\n",
       "      <th>err</th>\n",
       "    </tr>\n",
       "  </thead>\n",
       "  <tbody>\n",
       "    <tr>\n",
       "      <th>0</th>\n",
       "      <td>8.510191</td>\n",
       "      <td>1.242363</td>\n",
       "      <td>0.122200</td>\n",
       "    </tr>\n",
       "    <tr>\n",
       "      <th>1</th>\n",
       "      <td>8.783666</td>\n",
       "      <td>0.879837</td>\n",
       "      <td>0.089613</td>\n",
       "    </tr>\n",
       "    <tr>\n",
       "      <th>2</th>\n",
       "      <td>9.142779</td>\n",
       "      <td>0.476578</td>\n",
       "      <td>0.057026</td>\n",
       "    </tr>\n",
       "  </tbody>\n",
       "</table>\n",
       "</div>"
      ],
      "text/plain": [
       "      logNu      logF       err\n",
       "0  8.510191  1.242363  0.122200\n",
       "1  8.783666  0.879837  0.089613\n",
       "2  9.142779  0.476578  0.057026"
      ]
     },
     "execution_count": 10,
     "metadata": {},
     "output_type": "execute_result"
    }
   ],
   "source": [
    "spec"
   ]
  },
  {
   "cell_type": "code",
   "execution_count": 5,
   "metadata": {},
   "outputs": [
    {
     "data": {
      "image/png": "[encoded data removed]",
      "text/plain": [
       "<Figure size 720x720 with 1 Axes>"
      ]
     },
     "metadata": {
      "needs_background": "light"
     },
     "output_type": "display_data"
    },
    {
     "data": {
      "image/png": "[encoded data removed]",
      "text/plain": [
       "<Figure size 720x720 with 1 Axes>"
      ]
     },
     "metadata": {
      "needs_background": "light"
     },
     "output_type": "display_data"
    }
   ],
   "source": [
    "\n",
    "\n",
    "\n",
    "plt.figure(figsize=(10,10))\n",
    "plt.errorbar(prof['r'].values, prof['logF'].values, marker='o', linestyle='', yerr=[prof['err_m'].values ,prof['err_p'].values])\n",
    "plt.title(\"Profile\")\n",
    "plt.show()\n",
    "\n",
    "plt.figure(figsize=(10,10))\n",
    "plt.errorbar(spec['logNu'].values, spec['logF'].values, marker='o', linestyle='', yerr=spec['err'].values)\n",
    "plt.title('Spectrum')\n",
    "plt.show()"
   ]
  },
  {
   "cell_type": "markdown",
   "metadata": {},
   "source": [
    "## Spectrum"
   ]
  },
  {
   "cell_type": "code",
   "execution_count": 12,
   "metadata": {},
   "outputs": [],
   "source": [
    "N = spec['logNu'].values*u.Hz\n",
    "F =  spec['logF'].values*u.Jy\n",
    "Ferr = spec['err'].values*u.Jy"
   ]
  },
  {
   "cell_type": "code",
   "execution_count": null,
   "metadata": {},
   "outputs": [],
   "source": [
    "%%time\n",
    "\n",
    "def syncfitPrimary(x,a, ind):\n",
    "    clust.X_crp_E = {'X':0, 'R_norm': clust.R500}\n",
    "    clust.X_cre1_E = {'X':a, 'R_norm': clust.R500}\n",
    "    clust.spectrum_cre1_model = {'name':'PowerLaw', 'Index':ind }\n",
    "    return clust.get_synchrotron_spectrum(x*u.GHz)[1].to_value('Jy')\n",
    "\n",
    "\n",
    "params1, params_covariance = optimize.curve_fit(syncfitPrimary, N.to_value('Hz'), F.to_value('Jy'), \n",
    "                                                sigma = Ferr.to_value('Jy'),\n",
    "                                               p0=[0.01, 3])\n",
    "\n",
    "print \"Primary Electron Parameters: \", (params1)"
   ]
  },
  {
   "cell_type": "code",
   "execution_count": null,
   "metadata": {},
   "outputs": [],
   "source": [
    "plt.figure(figsize=(15,10))\n",
    "plt.errorbar(spec['logNu'].values, spec['logF'].values, marker='o', linestyle='', yerr=spec['err'].values)\n",
    "## Plot Primary Electron version\n",
    "plt.loglog(dat_freq, syncfitPrimary(dat_freq.to_value('GHz'), params1[0],params1[1]),\n",
    "         label='Primary Electron Population Case')\n"
   ]
  },
  {
   "cell_type": "code",
   "execution_count": null,
   "metadata": {},
   "outputs": [],
   "source": [
    "%%time\n",
    "\n",
    "def syncfitSecondary(x,a, ind):\n",
    "    clust.X_crp_E = {'X':a, 'R_norm': clust.R500}\n",
    "    clust.X_cre1_E = {'X':0, 'R_norm': clust.R500}\n",
    "    clust.spectrum_crp_model = {'name':'PowerLaw', 'Index':ind }\n",
    "    return clust.get_synchrotron_spectrum(x*u.GHz)[1].to_value('Jy')\n",
    "\n",
    "params2, params_covariance = optimize.curve_fit(syncfitSecondary, rd.to_value('kpc'), F.to_value('Jy'), \n",
    "                                                sigma = Ferr.to_value('Jy'),\n",
    "                                               p0=[0.01, 3])\n",
    "\n",
    "\n",
    "print \"Secondary electron parameters: \",(params2)"
   ]
  },
  {
   "cell_type": "markdown",
   "metadata": {},
   "source": [
    "## Profi"
   ]
  }
 ],
 "metadata": {
  "kernelspec": {
   "display_name": "Python 2",
   "language": "python",
   "name": "python2"
  },
  "language_info": {
   "codemirror_mode": {
    "name": "ipython",
    "version": 2
   },
   "file_extension": ".py",
   "mimetype": "text/x-python",
   "name": "python",
   "nbconvert_exporter": "python",
   "pygments_lexer": "ipython2",
   "version": "2.7.17"
  }
 },
 "nbformat": 4,
 "nbformat_minor": 2
}
