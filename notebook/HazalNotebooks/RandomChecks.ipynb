{
 "cells": [
  {
   "cell_type": "markdown",
   "metadata": {},
   "source": [
    "# Contents\n",
    "My failed attempts at synchrotron"
   ]
  },
  {
   "cell_type": "code",
   "execution_count": 1,
   "metadata": {},
   "outputs": [],
   "source": [
    "from matplotlib.colors import SymLogNorm\n",
    "import matplotlib\n",
    "import matplotlib.pyplot as plt\n",
    "import numpy as np\n",
    "from astropy.coordinates.sky_coordinate import SkyCoord\n",
    "import astropy.units as u\n",
    "from astropy.cosmology import Planck15 as cosmo\n",
    "from astropy import constants as const\n",
    "from astropy.wcs import WCS\n",
    "from ClusterModel import model\n",
    "from ClusterModel import model_modpar\n",
    "from ClusterModel import model_tools\n",
    "\n",
    "# Modify plotting parameters\n",
    "dict_base = {'font.size':        16,\n",
    "             'legend.fontsize':  16,\n",
    "             'xtick.labelsize':  16,\n",
    "             'ytick.labelsize':  16,\n",
    "             'axes.labelsize':   16,\n",
    "             'axes.titlesize':   16,\n",
    "             'figure.titlesize': 16,    \n",
    "             'figure.figsize':[8.0, 6.0],\n",
    "             'figure.subplot.right':0.97,\n",
    "             'figure.subplot.left':0.15,\n",
    "             'font.family':'serif',\n",
    "             'figure.facecolor': 'white',\n",
    "             'legend.frameon': True}\n",
    "plt.rcParams.update(dict_base)"
   ]
  },
  {
   "cell_type": "code",
   "execution_count": 2,
   "metadata": {},
   "outputs": [
    {
     "name": "stdout",
     "output_type": "stream",
     "text": [
      "=====================================================================\n",
      "                      ___   __    ___   __   __                      \n",
      "                     / __) / _\\  / __) /  \\ (  )                     \n",
      "                    ( (__ /    \\( (_ \\(  O )/ (_/\\                   \n",
      "                     \\___)\\_/\\_/ \\___/ \\__/ \\____/                   \n",
      "=====================================================================\n",
      "   Cluster Atmosphere modeling for Gamma-ray Observations Libraries  \n",
      "---------------------------------------------------------------------\n",
      "                                                                     \n",
      "Setting gNFW Planck coll. (2013) UPP.\n"
     ]
    }
   ],
   "source": [
    "clust = model.Cluster(name='Coma', \n",
    "                      redshift=0.023, M500=7e14*u.Msun, \n",
    "                      cosmology=cosmo, silent=False, \n",
    "                      output_dir='/home/astrogamma/Project/Output/TestClusterModel')"
   ]
  },
  {
   "cell_type": "code",
   "execution_count": 3,
   "metadata": {},
   "outputs": [
    {
     "name": "stdout",
     "output_type": "stream",
     "text": [
      "Setting coord value\n",
      "Setting density_gas_model value\n",
      "Fixing: R500\n",
      "Setting pressure_gas_model value\n",
      "Fixing: R500\n",
      "Setting spectrum_crp_model value\n",
      "Getting R500 value\n",
      "Setting cosmic ray to thermal pressure ratio value\n"
     ]
    }
   ],
   "source": [
    "#----- Some parameters that can be set at when defining the cluster\n",
    "clust.coord = SkyCoord(\"194.953d  27.9806d\", frame=\"icrs\", unit=\"deg\")\n",
    "\n",
    "#----- Define the relevant ICM model (available models are defined in model_modpar.py)\n",
    "\n",
    "# Density profile of the target thermal gas\n",
    "clust.density_gas_model = {'name':'beta', 'n_0':3e-3*u.cm**-3, 'beta':2.0/3, 'r_c':290*u.kpc}\n",
    "\n",
    "# Pressure profile of the target thermal gas\n",
    "clust.pressure_gas_model = {'name':'GNFW', 'P_0':2.2e-2*u.keV/u.cm**3, 'c500':2.9, 'a':1.8, 'b':3.1, 'c':0.0}\n",
    "\n",
    "# Set the cosmic ray density profile to the same shape as the thermal gas density\n",
    "clust.set_density_crp_isodens_scal_param()\n",
    "\n",
    "# Cosmic ray proton spectrum\n",
    "clust.spectrum_crp_model = {'name':'PowerLaw', 'Index':2.3}\n",
    "\n",
    "# Cosmic ray proton normalization\n",
    "clust.X_cr_E = {'X':0.01, 'R_norm':clust.R500} # X is the CRp/thermal energy ratio, normalized within R_norm"
   ]
  },
  {
   "cell_type": "code",
   "execution_count": 4,
   "metadata": {},
   "outputs": [
    {
     "name": "stdout",
     "output_type": "stream",
     "text": [
      "Getting the minimal proton energy\n",
      "Getting the maximal proton energy\n"
     ]
    }
   ],
   "source": [
    "#Set some random stolen models for the primary electrons\n",
    "clust.spectrum_cre1_model = {'name':  'PowerLaw', 'Index':2.3}\n",
    "                             #'ExponentialCutoffPowerLaw','Index':3.3, 'CutoffEnergy':1e7*u.keV}\n",
    "                           \n",
    "                        \n",
    "## You can try building a model incorporating the energy losses from sync and IC!\n",
    "\n",
    "\n",
    "## For density you can just make the same as protons --> set it equal to the thermal gas \n",
    "clust.density_cre1_model = {'name': 'beta', 'n_0':3e-3*u.cm**-3, 'beta':2.0/3, 'r_c':290*u.kpc}\n",
    "\n",
    "#pull out some random min and max energies\n",
    "Eemin = clust.Epmin \n",
    "Eemax = clust.Epmax"
   ]
  },
  {
   "cell_type": "code",
   "execution_count": 5,
   "metadata": {},
   "outputs": [],
   "source": [
    "## Just use the avalialble generic functions\n",
    "\n",
    "clust.density_cre1_model['n_0'] = 1.0 *u.adu\n",
    "\n",
    "def get_normed_density_cre1_profile(cl = clust, rad = np.logspace(0,4,100)*u.kpc):\n",
    "    \n",
    "   # rad = model_tools.check_qarray(rad, unit = 'kpc')\n",
    "    nr = cl._get_generic_profile(rad, cl.density_cre1_model)\n",
    "    nr[rad > cl._R_truncation] *= 0 \n",
    "    \n",
    "    return rad, nr.to('adu')\n",
    "\n",
    "\n",
    "def get_normed_spectrum_cre1(cl , en): \n",
    "    \n",
    "    se = cl._get_generic_spectrum(en, cl.spectrum_cre1_model)\n",
    "    se[en >Eemax] *= 0\n",
    "    se[en <Eemin] *= 0\n",
    "    \n",
    "    return en, se*u.adu"
   ]
  },
  {
   "cell_type": "code",
   "execution_count": 6,
   "metadata": {},
   "outputs": [
    {
     "data": {
      "text/plain": [
       "<matplotlib.legend.Legend at 0x7fb49404aed0>"
      ]
     },
     "execution_count": 6,
     "metadata": {},
     "output_type": "execute_result"
    },
    {
     "data": {
      "image/png": "[encoded data removed]",
      "text/plain": [
       "<Figure size 1080x432 with 2 Axes>"
      ]
     },
     "metadata": {
      "needs_background": "light"
     },
     "output_type": "display_data"
    }
   ],
   "source": [
    "radius=np.logspace(0,4,100)*u.kpc\n",
    "energy=np.logspace(-2,7,100)*u.GeV\n",
    "\n",
    "# The simplest plots: density profile and spectrum\n",
    "plt.figure(figsize=(15,6))\n",
    "plt.subplot(121)\n",
    "\n",
    "a ,b = get_normed_density_cre1_profile(clust, radius)\n",
    "plt.loglog(a,b, label='basic density profile')\n",
    "\n",
    "plt.xlabel('density ')\n",
    "plt.ylabel('SE')\n",
    "plt.legend()\n",
    "\n",
    "\n",
    "plt.subplot(122)\n",
    "c, d = get_normed_spectrum_cre1(clust,energy)\n",
    "plt.loglog(c,d,label = 'basic spectrum')\n",
    "plt.xlabel('energy')\n",
    "plt.legend()"
   ]
  },
  {
   "cell_type": "code",
   "execution_count": 12,
   "metadata": {},
   "outputs": [],
   "source": [
    "\n",
    "A = 1/u.GeV/u.cm**3\n",
    "\n",
    "\n",
    "def cre1_2d(cl = clust, en= np.logspace(-2,7,100)*u.GeV, rd =np.logspace(0,4,100)*u.kpc):\n",
    "    \n",
    "    #norm\n",
    "    #r = norm_electrons(clust)\n",
    "    #norm_electrons(cl)\n",
    "    #spatial\n",
    "    rad, fd = get_normed_density_cre1_profile(cl, rd)\n",
    "    fd2 = model_tools.replicate_array(fd.to_value('adu'), len(en), T = False )\n",
    "    #energy\n",
    "    eng, fe = get_normed_spectrum_cre1(cl, en)\n",
    "    fe2 = model_tools.replicate_array(fe.to_value('adu'), len(rd), T = True )\n",
    "    \n",
    "    spectrum= A*fd2*fe2\n",
    "     \n",
    "    return spectrum.to('GeV-1 cm-3')\n",
    "\n"
   ]
  },
  {
   "cell_type": "code",
   "execution_count": 13,
   "metadata": {},
   "outputs": [
    {
     "name": "stderr",
     "output_type": "stream",
     "text": [
      "/home/astrogamma/.local/anaconda3/envs/cta/lib/python2.7/site-packages/ipykernel_launcher.py:6: RuntimeWarning: divide by zero encountered in log\n",
      "  \n"
     ]
    },
    {
     "data": {
      "image/png": "[encoded data removed]",
      "text/plain": [
       "<Figure size 1080x864 with 3 Axes>"
      ]
     },
     "metadata": {
      "needs_background": "light"
     },
     "output_type": "display_data"
    }
   ],
   "source": [
    "\n",
    "dndedv_try = cre1_2d( )\n",
    "\n",
    "plt.figure(figsize = (15,12))\n",
    "plt.subplot(122)\n",
    "plt.imshow(np.log(dndedv_try.value), origin = 'lower')\n",
    "plt.xlabel(\"radius\")\n",
    "plt.colorbar()\n",
    "\n",
    "plt.subplot(121)\n",
    "plt.plot(dndedv_try)\n",
    "plt.xlim(0,50)\n",
    "plt.show()"
   ]
  },
  {
   "cell_type": "markdown",
   "metadata": {},
   "source": [
    "# Synchrotron\n",
    "\n",
    "The failed attempts to rewrite the Cluster Emission Synchrotron function"
   ]
  },
  {
   "cell_type": "markdown",
   "metadata": {},
   "source": [
    "## Rewrite the class function. Omit the Je function\n",
    "Problem: Ee!!!\n",
    "- if I leave NptEePd the array length is 1029 and I cannot use it for later calculations\n"
   ]
  },
  {
   "cell_type": "code",
   "execution_count": 26,
   "metadata": {},
   "outputs": [],
   "source": [
    "#rate sync\n",
    "from scipy.special import cbrt\n",
    "\n",
    "\n",
    "def Gtilde( x):\n",
    "  \n",
    "        cb = cbrt(x) # x**1/3\n",
    "        gt1 = 1.808 * cb / np.sqrt(1 + 3.4 * cb ** 2.0)\n",
    "        gt2 = 1 + 2.210 * cb ** 2.0 + 0.347 * cb ** 4.0\n",
    "        gt3 = 1 + 1.353 * cb ** 2.0 + 0.217 * cb ** 4.0\n",
    "        \n",
    "        return gt1 * (gt2 / gt3) * np.exp(-x)\n",
    "    \n",
    "\n",
    "\n",
    "def synchrotron( Ephoton_input, radius, B=1.0*u.uG):\n",
    "        \n",
    "        \n",
    "        Eemin=(const.m_e*const.c**2).to('GeV'),\n",
    "        Eemax= clust.Epmax\n",
    "        NptEePd=clust.Npt_per_decade_integ\n",
    "        #Electron energy\n",
    "        Eemax = Eemaxo.to_value('GeV')\n",
    "        Eeo = np.logspace(np.log10(Eemin), np.log10(Eemax), int(NptEePd*(np.log10(Eemax/Eemin))))\n",
    "## 100)\n",
    "\n",
    "        # Check input photons\n",
    "        Ephoton = Ephoton_input.to('eV')\n",
    "        if type(Ephoton) == float: Ephoton = np.array([Ephoton])\n",
    "#Eemin = clust.Epmin \n",
    "#Eemax = clust.Epmax\n",
    "      \n",
    "        gamma = (Ee/(const.m_e*const.c**2).to_value('GeV')) # 1D\n",
    "        ampli = np.sqrt(3)/(8*np.pi**2)*(const.e.value*const.e.unit)**3/(const.eps0*const.m_e*const.c*const.hbar)\n",
    "\n",
    "        #---------- Case of integrated quantities, no radius\n",
    "        # Get the electron distribution\n",
    "        Je = cre1_2d( clust, Ee*u.GeV, radius).to_value('GeV-1 cm-3').T*u.GeV**-1\n",
    "        #Je = Je*u.GeV**-1\n",
    "\n",
    "        # Get the normalization function (1D: Ephot)\n",
    "        func = ampli * B / Ephoton\n",
    "        \n",
    "        # Get the critical energy and energy ratio\n",
    "        Ec = (3.0/2)*gamma**2*const.e.value*const.e.unit*B*const.hbar / (const.m_e) # 1D: Eelec\n",
    "        EphotEc = Ephoton.to_value('GeV') / np.vstack(Ec.to_value('GeV')) # 2D: photon energy, electron energy\n",
    "\n",
    "        # Compute integrand\n",
    "        dNphot_dEdt = func * Gtilde(EphotEc)\n",
    "        \n",
    "        # Integrate over electron energy\n",
    "        dNphot_dEdt = model_tools.trapz_loglog(np.vstack(Je.value)*Je.unit * dNphot_dEdt, Eeo*u.GeV, axis=0)\n",
    "\n",
    "        # Get the output\n",
    "        output = dNphot_dEdt.to('GeV-1 s-1')\n",
    "\n",
    "        return output \n",
    "    \n",
    "    \n",
    "    \n",
    "    \n",
    "\n",
    "def rate_syncR(energy = np.logspace(-9,-2,100)*u.eV, radius = np.logspace(0,4,100)*u.kpc ):\n",
    "    \n",
    "   #Get Magnetic field\n",
    "    radius, B = clust.get_magfield_profile(radius)\n",
    "        \n",
    "    rate = synchrotron( energy, radius, B).T\n",
    "    \n",
    "    return rate.to('GeV-1 cm-3 s-1')\n",
    "\n",
    "\n"
   ]
  },
  {
   "cell_type": "code",
   "execution_count": 29,
   "metadata": {},
   "outputs": [],
   "source": [
    "#For comparison, here use the class\n",
    "from ClusterModel.ClusterTools import cluster_electron_emission as emi\n",
    "\n",
    "\n",
    "def rate_sync(energy = np.logspace(-9,-2,100)*u.eV, radius = np.logspace(0,4,100)*u.kpc ):\n",
    "    \n",
    "    #Get Magnetic field\n",
    "    radius, B = clust.get_magfield_profile(radius)\n",
    "    \n",
    "    #Define Je: \n",
    "    def Je2( rad, eng): return cre1_2d(clust, eng*u.GeV, rad*u.kpc).to_value('GeV-1 cm-3').T\n",
    "    \n",
    "    #Use the class\n",
    "    model =  emi.ClusterElectronEmission (Je = Je2,Eemin=(const.m_e*const.c**2).to('GeV'), NptEePd=clust._Npt_per_decade_integ)\n",
    "    rate = model.synchrotron( energy, radius_input = radius, B=B).T\n",
    "    \n",
    "    return rate.to('GeV-1 cm-3 s-1')"
   ]
  },
  {
   "cell_type": "markdown",
   "metadata": {},
   "source": [
    "## Compare"
   ]
  },
  {
   "cell_type": "code",
   "execution_count": 30,
   "metadata": {},
   "outputs": [
    {
     "name": "stdout",
     "output_type": "stream",
     "text": [
      "Getting the maximal proton energy\n"
     ]
    },
    {
     "ename": "ValueError",
     "evalue": "operands could not be broadcast together with shapes (1029,) (100,) ",
     "output_type": "error",
     "traceback": [
      "\u001b[0;31m---------------------------------------------------------------------------\u001b[0m",
      "\u001b[0;31mValueError\u001b[0m                                Traceback (most recent call last)",
      "\u001b[0;32m<ipython-input-30-34075257cebb>\u001b[0m in \u001b[0;36m<module>\u001b[0;34m()\u001b[0m\n\u001b[1;32m      1\u001b[0m \u001b[0;34m\u001b[0m\u001b[0m\n\u001b[0;32m----> 2\u001b[0;31m \u001b[0mnoclass\u001b[0m \u001b[0;34m=\u001b[0m \u001b[0mrate_syncR\u001b[0m\u001b[0;34m(\u001b[0m\u001b[0;34m)\u001b[0m\u001b[0;34m\u001b[0m\u001b[0m\n\u001b[0m\u001b[1;32m      3\u001b[0m \u001b[0myesclass\u001b[0m \u001b[0;34m=\u001b[0m \u001b[0mrate_sync\u001b[0m\u001b[0;34m(\u001b[0m\u001b[0;34m)\u001b[0m\u001b[0;34m\u001b[0m\u001b[0m\n\u001b[1;32m      4\u001b[0m \u001b[0mdefault\u001b[0m \u001b[0;34m=\u001b[0m \u001b[0mclust\u001b[0m\u001b[0;34m.\u001b[0m\u001b[0mget_rate_synchrotron\u001b[0m\u001b[0;34m(\u001b[0m\u001b[0;34m)\u001b[0m\u001b[0;34m\u001b[0m\u001b[0m\n",
      "\u001b[0;32m<ipython-input-26-a0bd6c9e41e7>\u001b[0m in \u001b[0;36mrate_syncR\u001b[0;34m(energy, radius)\u001b[0m\n\u001b[1;32m     64\u001b[0m     \u001b[0mradius\u001b[0m\u001b[0;34m,\u001b[0m \u001b[0mB\u001b[0m \u001b[0;34m=\u001b[0m \u001b[0mclust\u001b[0m\u001b[0;34m.\u001b[0m\u001b[0mget_magfield_profile\u001b[0m\u001b[0;34m(\u001b[0m\u001b[0mradius\u001b[0m\u001b[0;34m)\u001b[0m\u001b[0;34m\u001b[0m\u001b[0m\n\u001b[1;32m     65\u001b[0m \u001b[0;34m\u001b[0m\u001b[0m\n\u001b[0;32m---> 66\u001b[0;31m     \u001b[0mrate\u001b[0m \u001b[0;34m=\u001b[0m \u001b[0msynchrotron\u001b[0m\u001b[0;34m(\u001b[0m \u001b[0menergy\u001b[0m\u001b[0;34m,\u001b[0m \u001b[0mradius\u001b[0m\u001b[0;34m,\u001b[0m \u001b[0mB\u001b[0m\u001b[0;34m)\u001b[0m\u001b[0;34m.\u001b[0m\u001b[0mT\u001b[0m\u001b[0;34m\u001b[0m\u001b[0m\n\u001b[0m\u001b[1;32m     67\u001b[0m \u001b[0;34m\u001b[0m\u001b[0m\n\u001b[1;32m     68\u001b[0m     \u001b[0;32mreturn\u001b[0m \u001b[0mrate\u001b[0m\u001b[0;34m.\u001b[0m\u001b[0mto\u001b[0m\u001b[0;34m(\u001b[0m\u001b[0;34m'GeV-1 cm-3 s-1'\u001b[0m\u001b[0;34m)\u001b[0m\u001b[0;34m\u001b[0m\u001b[0m\n",
      "\u001b[0;32m<ipython-input-26-a0bd6c9e41e7>\u001b[0m in \u001b[0;36msynchrotron\u001b[0;34m(Ephoton_input, radius, B)\u001b[0m\n\u001b[1;32m     41\u001b[0m \u001b[0;34m\u001b[0m\u001b[0m\n\u001b[1;32m     42\u001b[0m         \u001b[0;31m# Get the critical energy and energy ratio\u001b[0m\u001b[0;34m\u001b[0m\u001b[0;34m\u001b[0m\u001b[0m\n\u001b[0;32m---> 43\u001b[0;31m         \u001b[0mEc\u001b[0m \u001b[0;34m=\u001b[0m \u001b[0;34m(\u001b[0m\u001b[0;36m3.0\u001b[0m\u001b[0;34m/\u001b[0m\u001b[0;36m2\u001b[0m\u001b[0;34m)\u001b[0m\u001b[0;34m*\u001b[0m\u001b[0mgamma\u001b[0m\u001b[0;34m**\u001b[0m\u001b[0;36m2\u001b[0m\u001b[0;34m*\u001b[0m\u001b[0mconst\u001b[0m\u001b[0;34m.\u001b[0m\u001b[0me\u001b[0m\u001b[0;34m.\u001b[0m\u001b[0mvalue\u001b[0m\u001b[0;34m*\u001b[0m\u001b[0mconst\u001b[0m\u001b[0;34m.\u001b[0m\u001b[0me\u001b[0m\u001b[0;34m.\u001b[0m\u001b[0munit\u001b[0m\u001b[0;34m*\u001b[0m\u001b[0mB\u001b[0m\u001b[0;34m*\u001b[0m\u001b[0mconst\u001b[0m\u001b[0;34m.\u001b[0m\u001b[0mhbar\u001b[0m \u001b[0;34m/\u001b[0m \u001b[0;34m(\u001b[0m\u001b[0mconst\u001b[0m\u001b[0;34m.\u001b[0m\u001b[0mm_e\u001b[0m\u001b[0;34m)\u001b[0m \u001b[0;31m# 1D: Eelec\u001b[0m\u001b[0;34m\u001b[0m\u001b[0m\n\u001b[0m\u001b[1;32m     44\u001b[0m         \u001b[0mEphotEc\u001b[0m \u001b[0;34m=\u001b[0m \u001b[0mEphoton\u001b[0m\u001b[0;34m.\u001b[0m\u001b[0mto_value\u001b[0m\u001b[0;34m(\u001b[0m\u001b[0;34m'GeV'\u001b[0m\u001b[0;34m)\u001b[0m \u001b[0;34m/\u001b[0m \u001b[0mnp\u001b[0m\u001b[0;34m.\u001b[0m\u001b[0mvstack\u001b[0m\u001b[0;34m(\u001b[0m\u001b[0mEc\u001b[0m\u001b[0;34m.\u001b[0m\u001b[0mto_value\u001b[0m\u001b[0;34m(\u001b[0m\u001b[0;34m'GeV'\u001b[0m\u001b[0;34m)\u001b[0m\u001b[0;34m)\u001b[0m \u001b[0;31m# 2D: photon energy, electron energy\u001b[0m\u001b[0;34m\u001b[0m\u001b[0m\n\u001b[1;32m     45\u001b[0m \u001b[0;34m\u001b[0m\u001b[0m\n",
      "\u001b[0;32m/home/astrogamma/.local/anaconda3/envs/cta/lib/python2.7/site-packages/astropy/units/quantity.pyc\u001b[0m in \u001b[0;36m__mul__\u001b[0;34m(self, other)\u001b[0m\n\u001b[1;32m   1029\u001b[0m                 \u001b[0;32mreturn\u001b[0m \u001b[0mNotImplemented\u001b[0m\u001b[0;34m\u001b[0m\u001b[0m\n\u001b[1;32m   1030\u001b[0m \u001b[0;34m\u001b[0m\u001b[0m\n\u001b[0;32m-> 1031\u001b[0;31m         \u001b[0;32mreturn\u001b[0m \u001b[0msuper\u001b[0m\u001b[0;34m(\u001b[0m\u001b[0mQuantity\u001b[0m\u001b[0;34m,\u001b[0m \u001b[0mself\u001b[0m\u001b[0;34m)\u001b[0m\u001b[0;34m.\u001b[0m\u001b[0m__mul__\u001b[0m\u001b[0;34m(\u001b[0m\u001b[0mother\u001b[0m\u001b[0;34m)\u001b[0m\u001b[0;34m\u001b[0m\u001b[0m\n\u001b[0m\u001b[1;32m   1032\u001b[0m \u001b[0;34m\u001b[0m\u001b[0m\n\u001b[1;32m   1033\u001b[0m     \u001b[0;32mdef\u001b[0m \u001b[0m__imul__\u001b[0m\u001b[0;34m(\u001b[0m\u001b[0mself\u001b[0m\u001b[0;34m,\u001b[0m \u001b[0mother\u001b[0m\u001b[0;34m)\u001b[0m\u001b[0;34m:\u001b[0m\u001b[0;34m\u001b[0m\u001b[0m\n",
      "\u001b[0;32m/home/astrogamma/.local/anaconda3/envs/cta/lib/python2.7/site-packages/astropy/units/quantity.pyc\u001b[0m in \u001b[0;36m__array_ufunc__\u001b[0;34m(self, function, method, *inputs, **kwargs)\u001b[0m\n\u001b[1;32m    638\u001b[0m         \u001b[0;31m# Call our superclass's __array_ufunc__\u001b[0m\u001b[0;34m\u001b[0m\u001b[0;34m\u001b[0m\u001b[0m\n\u001b[1;32m    639\u001b[0m         result = super(Quantity, self).__array_ufunc__(function, method,\n\u001b[0;32m--> 640\u001b[0;31m                                                        *arrays, **kwargs)\n\u001b[0m\u001b[1;32m    641\u001b[0m         \u001b[0;31m# If unit is None, a plain array is expected (e.g., comparisons), which\u001b[0m\u001b[0;34m\u001b[0m\u001b[0;34m\u001b[0m\u001b[0m\n\u001b[1;32m    642\u001b[0m         \u001b[0;31m# means we're done.\u001b[0m\u001b[0;34m\u001b[0m\u001b[0;34m\u001b[0m\u001b[0m\n",
      "\u001b[0;31mValueError\u001b[0m: operands could not be broadcast together with shapes (1029,) (100,) "
     ]
    }
   ],
   "source": [
    "\n",
    "noclass = rate_syncR()\n",
    "yesclass = rate_sync()\n",
    "default = clust.get_rate_synchrotron()\n"
   ]
  },
  {
   "cell_type": "code",
   "execution_count": 40,
   "metadata": {},
   "outputs": [
    {
     "data": {
      "text/plain": [
       "1029"
      ]
     },
     "execution_count": 40,
     "metadata": {},
     "output_type": "execute_result"
    }
   ],
   "source": [
    "int(NptEePd*(np.log10(Eemaxo/Eemino)))"
   ]
  },
  {
   "cell_type": "markdown",
   "metadata": {},
   "source": [
    "# Do everything in the Cluster Emission class; No Radius\n",
    "- B field is constant\n",
    "- Photon energy input has to have same length as electron energy, otherwise doesnt work"
   ]
  },
  {
   "cell_type": "code",
   "execution_count": 43,
   "metadata": {},
   "outputs": [
    {
     "data": {
      "text/plain": [
       "100"
      ]
     },
     "execution_count": 43,
     "metadata": {},
     "output_type": "execute_result"
    }
   ],
   "source": [
    "len(Je)"
   ]
  },
  {
   "cell_type": "code",
   "execution_count": 53,
   "metadata": {},
   "outputs": [
    {
     "name": "stdout",
     "output_type": "stream",
     "text": [
      "Getting the maximal proton energy\n"
     ]
    },
    {
     "data": {
      "text/latex": [
       "$[0,~0,~0,~\\dots,~0.00080007961,~0.00064251872,~0] \\; \\mathrm{\\frac{1}{GeV\\,s}}$"
      ],
      "text/plain": [
       "<Quantity [0.00000000e+00, 0.00000000e+00, 0.00000000e+00, 0.00000000e+00,\n",
       "           0.00000000e+00, 0.00000000e+00, 0.00000000e+00, 0.00000000e+00,\n",
       "           0.00000000e+00, 0.00000000e+00, 0.00000000e+00, 0.00000000e+00,\n",
       "           0.00000000e+00, 0.00000000e+00, 0.00000000e+00, 0.00000000e+00,\n",
       "           0.00000000e+00, 0.00000000e+00, 0.00000000e+00, 0.00000000e+00,\n",
       "           0.00000000e+00, 0.00000000e+00, 0.00000000e+00, 0.00000000e+00,\n",
       "           0.00000000e+00, 0.00000000e+00, 0.00000000e+00, 0.00000000e+00,\n",
       "           0.00000000e+00, 0.00000000e+00, 0.00000000e+00, 0.00000000e+00,\n",
       "           0.00000000e+00, 0.00000000e+00, 0.00000000e+00, 0.00000000e+00,\n",
       "           0.00000000e+00, 0.00000000e+00, 0.00000000e+00, 0.00000000e+00,\n",
       "           0.00000000e+00, 0.00000000e+00, 0.00000000e+00, 0.00000000e+00,\n",
       "           0.00000000e+00, 0.00000000e+00, 0.00000000e+00, 0.00000000e+00,\n",
       "           0.00000000e+00, 0.00000000e+00, 0.00000000e+00, 0.00000000e+00,\n",
       "           0.00000000e+00, 0.00000000e+00, 0.00000000e+00, 0.00000000e+00,\n",
       "           0.00000000e+00, 0.00000000e+00, 0.00000000e+00, 0.00000000e+00,\n",
       "           0.00000000e+00, 0.00000000e+00, 0.00000000e+00, 0.00000000e+00,\n",
       "           0.00000000e+00, 0.00000000e+00, 0.00000000e+00, 0.00000000e+00,\n",
       "           0.00000000e+00, 0.00000000e+00, 0.00000000e+00, 0.00000000e+00,\n",
       "           0.00000000e+00, 0.00000000e+00, 0.00000000e+00, 0.00000000e+00,\n",
       "           0.00000000e+00, 0.00000000e+00, 0.00000000e+00, 0.00000000e+00,\n",
       "           0.00000000e+00, 0.00000000e+00, 0.00000000e+00, 0.00000000e+00,\n",
       "           0.00000000e+00, 0.00000000e+00, 0.00000000e+00, 0.00000000e+00,\n",
       "           0.00000000e+00, 0.00000000e+00, 0.00000000e+00, 0.00000000e+00,\n",
       "           0.00000000e+00, 0.00000000e+00, 0.00000000e+00, 0.00000000e+00,\n",
       "           0.00000000e+00, 0.00000000e+00, 0.00000000e+00, 0.00000000e+00,\n",
       "           0.00000000e+00, 1.03745125e+16, 8.37909984e+15, 6.76741197e+15,\n",
       "           5.46566995e+15, 4.41427805e+15, 3.56509756e+15, 2.87924458e+15,\n",
       "           2.32531106e+15, 1.87792772e+15, 1.51660316e+15, 1.22478615e+15,\n",
       "           9.89108080e+14, 7.98771136e+14, 6.45053978e+14, 5.20912509e+14,\n",
       "           4.20657367e+14, 3.39693430e+14, 2.74309395e+14, 2.21507815e+14,\n",
       "           1.78867818e+14, 1.44434219e+14, 1.16627958e+14, 9.41737522e+13,\n",
       "           7.60416719e+13, 6.13999424e+13, 4.95768288e+13, 4.00298479e+13,\n",
       "           3.23209041e+13, 2.60962058e+13, 2.10700463e+13, 1.70117036e+13,\n",
       "           1.37348609e+13, 1.10890619e+13, 8.95281010e+12, 7.22799603e+12,\n",
       "           5.83539618e+12, 4.71103832e+12, 3.80326613e+12, 3.07036866e+12,\n",
       "           2.47866595e+12, 2.00096311e+12, 1.61530192e+12, 1.30395264e+12,\n",
       "           1.05259995e+12, 8.49685536e+11, 6.85877250e+11, 5.53640427e+11,\n",
       "           4.46891766e+11, 3.60719819e+11, 2.91159312e+11, 2.35008907e+11,\n",
       "           1.89684068e+11, 1.53098244e+11, 1.23566948e+11, 9.97302982e+10,\n",
       "           8.04904821e+10, 6.49612667e+10, 5.24272301e+10, 4.23108493e+10,\n",
       "           3.41459265e+10, 2.75561357e+10, 2.22377022e+10, 1.79454194e+10,\n",
       "           1.44813599e+10, 1.16857620e+10, 9.42967243e+09, 7.60900693e+09,\n",
       "           6.13975552e+09, 4.95411205e+09, 3.99734967e+09, 3.22529872e+09,\n",
       "           2.60231076e+09, 2.09961516e+09, 1.69399253e+09, 1.36670394e+09,\n",
       "           1.10262665e+09, 8.89556469e+08, 7.17644692e+08, 5.78943608e+08,\n",
       "           4.67039698e+08, 3.76757574e+08, 3.03921037e+08, 2.45160230e+08,\n",
       "           1.97756005e+08, 1.59514311e+08, 1.28664829e+08, 1.03779167e+08,\n",
       "           8.37048371e+07, 6.75119864e+07, 5.44504008e+07, 4.39148139e+07,\n",
       "           3.54169120e+07, 2.85627438e+07, 2.30344926e+07, 1.85757679e+07,\n",
       "           1.49797376e+07, 1.20795524e+07, 9.74061989e+06, 7.85437018e+06,\n",
       "           6.33322703e+06, 5.10654978e+06, 4.11735969e+06, 3.31969874e+06,\n",
       "           2.67649889e+06, 2.15786310e+06, 1.73967866e+06, 1.40249853e+06,\n",
       "           1.13063888e+06, 9.11451248e+05, 7.34735281e+05, 5.92265132e+05,\n",
       "           4.77407407e+05, 3.84813017e+05, 3.10168626e+05, 2.49996186e+05,\n",
       "           2.01491255e+05, 1.62392592e+05, 1.30876996e+05, 1.05474483e+05,\n",
       "           8.49998918e+04, 6.84977191e+04, 5.51976402e+04, 4.44786369e+04,\n",
       "           3.58400723e+04, 2.88783666e+04, 2.32681903e+04, 1.87472993e+04,\n",
       "           1.51043081e+04, 1.21688311e+04, 9.80353466e+03, 7.89772854e+03,\n",
       "           6.36219965e+03, 5.12504701e+03, 4.12832398e+03, 3.32533144e+03,\n",
       "           2.67843581e+03, 2.15731009e+03, 1.73751605e+03, 1.39936137e+03,\n",
       "           1.12697851e+03, 9.07582207e+02, 7.30871096e+02, 5.88545395e+02,\n",
       "           4.73918213e+02, 3.81602294e+02, 3.07257568e+02, 2.47387712e+02,\n",
       "           1.99176215e+02, 1.60354270e+02, 1.29094333e+02, 1.03924349e+02,\n",
       "           8.36586442e+01, 6.73422465e+01, 5.42060221e+01, 4.36305338e+01,\n",
       "           3.51169232e+01, 2.82634534e+01, 2.27466121e+01, 1.83058897e+01,\n",
       "           1.47315172e+01, 1.18545896e+01, 9.53911038e+00, 7.67558399e+00,\n",
       "           6.17585484e+00, 4.96895113e+00, 3.99773741e+00, 3.21621884e+00,\n",
       "           2.58737042e+00, 2.08138881e+00, 1.67428471e+00, 1.34674942e+00,\n",
       "           1.08324221e+00, 8.71255534e-01, 7.00723404e-01, 5.63545130e-01,\n",
       "           4.53201865e-01, 3.64447935e-01, 2.93062346e-01, 2.35648774e-01,\n",
       "           1.89474553e-01, 1.52341088e-01, 1.22479550e-01, 9.84669283e-02,\n",
       "           7.91584705e-02, 6.36333093e-02, 5.11507085e-02, 4.11148533e-02,\n",
       "           3.30465178e-02, 2.65602678e-02, 2.13461181e-02, 1.71547740e-02,\n",
       "           1.37857582e-02, 1.10778581e-02, 8.90144181e-03, 7.15227597e-03,\n",
       "           5.74655342e-03, 4.61689337e-03, 3.70912431e-03, 2.97969640e-03,\n",
       "           2.39360049e-03, 1.92269447e-03, 1.54435733e-03, 1.24040685e-03,\n",
       "           9.96229298e-04, 8.00079613e-04, 6.42518721e-04, 0.00000000e+00] 1 / (GeV s)>"
      ]
     },
     "execution_count": 53,
     "metadata": {},
     "output_type": "execute_result"
    }
   ],
   "source": [
    "#rate sync\n",
    "from scipy.special import cbrt\n",
    "\n",
    "\n",
    "def Gtilde( x):\n",
    "        \"\"\"\n",
    "        Useful equation. Aharonian, Kelner, Prosekin 2010 Eq. D7\n",
    "        Taken from Naima.\n",
    "        \n",
    "        Factor ~2 performance gain in using cbrt(x)**n vs x**(n/3.)\n",
    "        Invoking crbt only once reduced time by ~40%\n",
    "        \"\"\"\n",
    "        cb = cbrt(x) # x**1/3\n",
    "        gt1 = 1.808 * cb / np.sqrt(1 + 3.4 * cb ** 2.0)\n",
    "        gt2 = 1 + 2.210 * cb ** 2.0 + 0.347 * cb ** 4.0\n",
    "        gt3 = 1 + 1.353 * cb ** 2.0 + 0.217 * cb ** 4.0\n",
    "        \n",
    "        return gt1 * (gt2 / gt3) * np.exp(-x)\n",
    "    \n",
    "    \n",
    "    \n",
    "\n",
    "#radius = np.logspace(0,4,100)*u.kpc\n",
    "    \n",
    "#Constant B Field\n",
    "\n",
    "B=1.0*u.uG\n",
    "\n",
    "#rate = synchrotron( energy, radius, B).T\n",
    "    \n",
    "    \n",
    "\n",
    "    \n",
    " #   def synchrotron( Ephoton_input, radius, B=1.0*u.uG):\n",
    "        \n",
    "NptEePd = clust._Npt_per_decade_integ\n",
    "        #Electron energy\n",
    "Eemino = (const.m_e *const.c**2).to_value('GeV')\n",
    "Eemaxo = clust.Epmax\n",
    "Eemaxo = Eemaxo.to_value('GeV')\n",
    "Eeo = np.logspace(np.log10(Eemino), np.log10(Eemaxo), int(NptEePd*(np.log10(Eemaxo/Eemino))))\n",
    "\n",
    "        # Check input photons\n",
    "    \n",
    "    \n",
    "energy = np.logspace(-9,-2,len(Eeo))*u.eV\n",
    "\n",
    "Ephoton = energy.to('eV')\n",
    "if type(Ephoton) == float: Ephoton = np.array([Ephoton])\n",
    "#Eemin = clust.Epmin \n",
    "#Eemax = clust.Epmax\n",
    "      \n",
    "    \n",
    "    \n",
    "gamma = (Eeo/(const.m_e*const.c**2).to_value('GeV')) # 1D\n",
    "ampli = np.sqrt(3)/(8*np.pi**2)*(const.e.value*const.e.unit)**3/(const.eps0*const.m_e*const.c*const.hbar)\n",
    "\n",
    "        #---------- Case of integrated quantities, no radius\n",
    "        # Get the electron distribution\n",
    "Je = cre1_2d( clust, Eeo*u.GeV, np.logspace(0,4,len(Eeo))*u.kpc).to_value('GeV-1 cm-3').T*u.GeV**-1\n",
    "        #Je = Je*u.GeV**-1\n",
    "\n",
    "        # Get the normalization function (1D: Ephot)\n",
    "func = ampli * B / Ephoton\n",
    "        \n",
    "        # Get the critical energy and energy ratio\n",
    "Ec = (3.0/2)*gamma**2*const.e.value*const.e.unit*B*const.hbar / (const.m_e) # 1D: Eelec\n",
    "EphotEc = Ephoton.to_value('GeV') / np.vstack(Ec.to_value('GeV')) # 2D: photon energy, electron energy\n",
    "\n",
    "        # Compute integrand\n",
    "dNphot_dEdt = func * Gtilde(EphotEc)\n",
    "        \n",
    "        # Integrate over electron energy\n",
    "dNphot_dEdt = model_tools.trapz_loglog(np.vstack(Je.value)*Je.unit * dNphot_dEdt, Eeo*u.GeV, axis=0)\n",
    "\n",
    "        # Get the output\n",
    "output = dNphot_dEdt.to('GeV-1 s-1')\n",
    "\n",
    "output\n",
    "    "
   ]
  },
  {
   "cell_type": "markdown",
   "metadata": {},
   "source": [
    "## Electron energy"
   ]
  },
  {
   "cell_type": "code",
   "execution_count": 50,
   "metadata": {},
   "outputs": [
    {
     "name": "stdout",
     "output_type": "stream",
     "text": [
      "Getting the maximal proton energy\n"
     ]
    },
    {
     "data": {
      "text/latex": [
       "$[[0,~0,~0,~\\dots,~1.1329244 \\times 10^{-16},~9.4863224 \\times 10^{-17},~0],~\n",
       " [0,~0,~0,~\\dots,~1.1329216 \\times 10^{-16},~9.4862993 \\times 10^{-17},~0],~\n",
       " [0,~0,~0,~\\dots,~1.1329183 \\times 10^{-16},~9.4862715 \\times 10^{-17},~0],~\n",
       " \\dots,~\n",
       " [0,~0,~0,~\\dots,~0,~0,~0],~\n",
       " [0,~0,~0,~\\dots,~0,~0,~0],~\n",
       " [0,~0,~0,~\\dots,~0,~0,~0]] \\; \\mathrm{\\frac{1}{GeV}}$"
      ],
      "text/plain": [
       "<Quantity [[0.00000000e+00, 0.00000000e+00, 0.00000000e+00, ...,\n",
       "            1.13292437e-16, 9.48632235e-17, 0.00000000e+00],\n",
       "           [0.00000000e+00, 0.00000000e+00, 0.00000000e+00, ...,\n",
       "            1.13292162e-16, 9.48629929e-17, 0.00000000e+00],\n",
       "           [0.00000000e+00, 0.00000000e+00, 0.00000000e+00, ...,\n",
       "            1.13291830e-16, 9.48627150e-17, 0.00000000e+00],\n",
       "           ...,\n",
       "           [0.00000000e+00, 0.00000000e+00, 0.00000000e+00, ...,\n",
       "            0.00000000e+00, 0.00000000e+00, 0.00000000e+00],\n",
       "           [0.00000000e+00, 0.00000000e+00, 0.00000000e+00, ...,\n",
       "            0.00000000e+00, 0.00000000e+00, 0.00000000e+00],\n",
       "           [0.00000000e+00, 0.00000000e+00, 0.00000000e+00, ...,\n",
       "            0.00000000e+00, 0.00000000e+00, 0.00000000e+00]] 1 / GeV>"
      ]
     },
     "execution_count": 50,
     "metadata": {},
     "output_type": "execute_result"
    }
   ],
   "source": [
    "NptEePd = clust._Npt_per_decade_integ\n",
    "        #Electron energy\n",
    "        \n",
    "        #Electron energy\n",
    "Eemino = (const.m_e *const.c**2).to_value('GeV')\n",
    "Eemaxo = clust.Epmax\n",
    "Eemaxo = Eemaxo.to_value('GeV')\n",
    "Eeo = np.logspace(np.log10(Eemino), np.log10(Eemaxo),    int(NptEePd*(np.log10(Eemaxo/Eemino))))\n",
    "A = 1/u.GeV/u.cm**3\n",
    "radius = np.logspace(0,4,100)*u.kpc \n",
    "lolz = cre1_2d(  clust , Eeo*u.GeV, radius).to_value('GeV-1 cm-3').T*u.GeV**-1\n",
    "lolz"
   ]
  },
  {
   "cell_type": "markdown",
   "metadata": {},
   "source": [
    "## Why are my energies so low!?!???"
   ]
  },
  {
   "cell_type": "code",
   "execution_count": 37,
   "metadata": {},
   "outputs": [
    {
     "name": "stdout",
     "output_type": "stream",
     "text": [
      "Getting the maximal proton energy\n"
     ]
    },
    {
     "ename": "ValueError",
     "evalue": "operands could not be broadcast together with shapes (1029,) (100,) ",
     "output_type": "error",
     "traceback": [
      "\u001b[0;31m---------------------------------------------------------------------------\u001b[0m",
      "\u001b[0;31mValueError\u001b[0m                                Traceback (most recent call last)",
      "\u001b[0;32m<ipython-input-37-b3098b4405ca>\u001b[0m in \u001b[0;36m<module>\u001b[0;34m()\u001b[0m\n\u001b[1;32m      1\u001b[0m \u001b[0mradius\u001b[0m \u001b[0;34m=\u001b[0m \u001b[0mnp\u001b[0m\u001b[0;34m.\u001b[0m\u001b[0mlogspace\u001b[0m\u001b[0;34m(\u001b[0m\u001b[0;36m0\u001b[0m\u001b[0;34m,\u001b[0m\u001b[0;36m4\u001b[0m\u001b[0;34m,\u001b[0m\u001b[0;36m100\u001b[0m\u001b[0;34m)\u001b[0m\u001b[0;34m*\u001b[0m\u001b[0mu\u001b[0m\u001b[0;34m.\u001b[0m\u001b[0mkpc\u001b[0m\u001b[0;34m\u001b[0m\u001b[0m\n\u001b[1;32m      2\u001b[0m \u001b[0mradius\u001b[0m\u001b[0;34m,\u001b[0m \u001b[0mB\u001b[0m \u001b[0;34m=\u001b[0m \u001b[0mclust\u001b[0m\u001b[0;34m.\u001b[0m\u001b[0mget_magfield_profile\u001b[0m\u001b[0;34m(\u001b[0m\u001b[0mradius\u001b[0m\u001b[0;34m)\u001b[0m\u001b[0;34m\u001b[0m\u001b[0m\n\u001b[0;32m----> 3\u001b[0;31m \u001b[0mrate\u001b[0m \u001b[0;34m=\u001b[0m \u001b[0msynchrotron\u001b[0m\u001b[0;34m(\u001b[0m \u001b[0menergy\u001b[0m\u001b[0;34m,\u001b[0m \u001b[0mradius\u001b[0m\u001b[0;34m,\u001b[0m \u001b[0mB\u001b[0m\u001b[0;34m)\u001b[0m\u001b[0;34m.\u001b[0m\u001b[0mT\u001b[0m\u001b[0;34m\u001b[0m\u001b[0m\n\u001b[0m",
      "\u001b[0;32m<ipython-input-26-a0bd6c9e41e7>\u001b[0m in \u001b[0;36msynchrotron\u001b[0;34m(Ephoton_input, radius, B)\u001b[0m\n\u001b[1;32m     41\u001b[0m \u001b[0;34m\u001b[0m\u001b[0m\n\u001b[1;32m     42\u001b[0m         \u001b[0;31m# Get the critical energy and energy ratio\u001b[0m\u001b[0;34m\u001b[0m\u001b[0;34m\u001b[0m\u001b[0m\n\u001b[0;32m---> 43\u001b[0;31m         \u001b[0mEc\u001b[0m \u001b[0;34m=\u001b[0m \u001b[0;34m(\u001b[0m\u001b[0;36m3.0\u001b[0m\u001b[0;34m/\u001b[0m\u001b[0;36m2\u001b[0m\u001b[0;34m)\u001b[0m\u001b[0;34m*\u001b[0m\u001b[0mgamma\u001b[0m\u001b[0;34m**\u001b[0m\u001b[0;36m2\u001b[0m\u001b[0;34m*\u001b[0m\u001b[0mconst\u001b[0m\u001b[0;34m.\u001b[0m\u001b[0me\u001b[0m\u001b[0;34m.\u001b[0m\u001b[0mvalue\u001b[0m\u001b[0;34m*\u001b[0m\u001b[0mconst\u001b[0m\u001b[0;34m.\u001b[0m\u001b[0me\u001b[0m\u001b[0;34m.\u001b[0m\u001b[0munit\u001b[0m\u001b[0;34m*\u001b[0m\u001b[0mB\u001b[0m\u001b[0;34m*\u001b[0m\u001b[0mconst\u001b[0m\u001b[0;34m.\u001b[0m\u001b[0mhbar\u001b[0m \u001b[0;34m/\u001b[0m \u001b[0;34m(\u001b[0m\u001b[0mconst\u001b[0m\u001b[0;34m.\u001b[0m\u001b[0mm_e\u001b[0m\u001b[0;34m)\u001b[0m \u001b[0;31m# 1D: Eelec\u001b[0m\u001b[0;34m\u001b[0m\u001b[0m\n\u001b[0m\u001b[1;32m     44\u001b[0m         \u001b[0mEphotEc\u001b[0m \u001b[0;34m=\u001b[0m \u001b[0mEphoton\u001b[0m\u001b[0;34m.\u001b[0m\u001b[0mto_value\u001b[0m\u001b[0;34m(\u001b[0m\u001b[0;34m'GeV'\u001b[0m\u001b[0;34m)\u001b[0m \u001b[0;34m/\u001b[0m \u001b[0mnp\u001b[0m\u001b[0;34m.\u001b[0m\u001b[0mvstack\u001b[0m\u001b[0;34m(\u001b[0m\u001b[0mEc\u001b[0m\u001b[0;34m.\u001b[0m\u001b[0mto_value\u001b[0m\u001b[0;34m(\u001b[0m\u001b[0;34m'GeV'\u001b[0m\u001b[0;34m)\u001b[0m\u001b[0;34m)\u001b[0m \u001b[0;31m# 2D: photon energy, electron energy\u001b[0m\u001b[0;34m\u001b[0m\u001b[0m\n\u001b[1;32m     45\u001b[0m \u001b[0;34m\u001b[0m\u001b[0m\n",
      "\u001b[0;32m/home/astrogamma/.local/anaconda3/envs/cta/lib/python2.7/site-packages/astropy/units/quantity.pyc\u001b[0m in \u001b[0;36m__mul__\u001b[0;34m(self, other)\u001b[0m\n\u001b[1;32m   1029\u001b[0m                 \u001b[0;32mreturn\u001b[0m \u001b[0mNotImplemented\u001b[0m\u001b[0;34m\u001b[0m\u001b[0m\n\u001b[1;32m   1030\u001b[0m \u001b[0;34m\u001b[0m\u001b[0m\n\u001b[0;32m-> 1031\u001b[0;31m         \u001b[0;32mreturn\u001b[0m \u001b[0msuper\u001b[0m\u001b[0;34m(\u001b[0m\u001b[0mQuantity\u001b[0m\u001b[0;34m,\u001b[0m \u001b[0mself\u001b[0m\u001b[0;34m)\u001b[0m\u001b[0;34m.\u001b[0m\u001b[0m__mul__\u001b[0m\u001b[0;34m(\u001b[0m\u001b[0mother\u001b[0m\u001b[0;34m)\u001b[0m\u001b[0;34m\u001b[0m\u001b[0m\n\u001b[0m\u001b[1;32m   1032\u001b[0m \u001b[0;34m\u001b[0m\u001b[0m\n\u001b[1;32m   1033\u001b[0m     \u001b[0;32mdef\u001b[0m \u001b[0m__imul__\u001b[0m\u001b[0;34m(\u001b[0m\u001b[0mself\u001b[0m\u001b[0;34m,\u001b[0m \u001b[0mother\u001b[0m\u001b[0;34m)\u001b[0m\u001b[0;34m:\u001b[0m\u001b[0;34m\u001b[0m\u001b[0m\n",
      "\u001b[0;32m/home/astrogamma/.local/anaconda3/envs/cta/lib/python2.7/site-packages/astropy/units/quantity.pyc\u001b[0m in \u001b[0;36m__array_ufunc__\u001b[0;34m(self, function, method, *inputs, **kwargs)\u001b[0m\n\u001b[1;32m    638\u001b[0m         \u001b[0;31m# Call our superclass's __array_ufunc__\u001b[0m\u001b[0;34m\u001b[0m\u001b[0;34m\u001b[0m\u001b[0m\n\u001b[1;32m    639\u001b[0m         result = super(Quantity, self).__array_ufunc__(function, method,\n\u001b[0;32m--> 640\u001b[0;31m                                                        *arrays, **kwargs)\n\u001b[0m\u001b[1;32m    641\u001b[0m         \u001b[0;31m# If unit is None, a plain array is expected (e.g., comparisons), which\u001b[0m\u001b[0;34m\u001b[0m\u001b[0;34m\u001b[0m\u001b[0m\n\u001b[1;32m    642\u001b[0m         \u001b[0;31m# means we're done.\u001b[0m\u001b[0;34m\u001b[0m\u001b[0;34m\u001b[0m\u001b[0m\n",
      "\u001b[0;31mValueError\u001b[0m: operands could not be broadcast together with shapes (1029,) (100,) "
     ]
    }
   ],
   "source": [
    "radius = np.logspace(0,4,100)*u.kpc \n",
    "radius, B = clust.get_magfield_profile(radius)\n",
    "rate = synchrotron( energy, radius, B).T"
   ]
  },
  {
   "cell_type": "code",
   "execution_count": 39,
   "metadata": {},
   "outputs": [],
   "source": [
    "\n",
    "Rmin = clust._Rmin\n",
    "Rmax = clust._R500     \n",
    "    #sample radius\n",
    "rad = model_tools.sampling_array(Rmin, Rmax, NptPd = clust._Npt_per_decade_integ, unit = True)\n",
    "\n",
    "\n",
    "A = (1/u.GeV/u.cm**3)\n",
    "cl = clust\n",
    "freq = np.logspace(-3,2,100)*u.GHz\n",
    "\n",
    "energy = (const.h*freq).to('eV')\n",
    "    \n",
    "\n",
    "\n",
    "\n",
    "dNdEdVdt = rate_sync(energy, radius)"
   ]
  },
  {
   "cell_type": "code",
   "execution_count": null,
   "metadata": {},
   "outputs": [],
   "source": []
  }
 ],
 "metadata": {
  "kernelspec": {
   "display_name": "Python 2",
   "language": "python",
   "name": "python2"
  },
  "language_info": {
   "codemirror_mode": {
    "name": "ipython",
    "version": 2
   },
   "file_extension": ".py",
   "mimetype": "text/x-python",
   "name": "python",
   "nbconvert_exporter": "python",
   "pygments_lexer": "ipython2",
   "version": "2.7.17"
  }
 },
 "nbformat": 4,
 "nbformat_minor": 2
}
