{
 "cells": [
  {
   "cell_type": "markdown",
   "metadata": {},
   "source": [
    "# Secondary Electron Population Fit\n",
    "Other extreme, assume no primary electrons present\n",
    "- Fit Secondary electron synchrotron result to Coma Data\n",
    "- Find new index and norm\n",
    "- Find ratio to thermal energy"
   ]
  },
  {
   "cell_type": "code",
   "execution_count": 1,
   "metadata": {},
   "outputs": [],
   "source": [
    "from matplotlib.colors import SymLogNorm\n",
    "import matplotlib\n",
    "import matplotlib.pyplot as plt\n",
    "import numpy as np\n",
    "from astropy.coordinates.sky_coordinate import SkyCoord\n",
    "import astropy.units as u\n",
    "from astropy.cosmology import Planck15 as cosmo\n",
    "from astropy import constants as const\n",
    "from astropy.wcs import WCS\n",
    "from ClusterModel import model\n",
    "from ClusterModel import model_modpar\n",
    "from ClusterModel import model_tools\n",
    "\n",
    "# Modify plotting parameters\n",
    "dict_base = {'font.size':        16,\n",
    "             'legend.fontsize':  16,\n",
    "             'xtick.labelsize':  16,\n",
    "             'ytick.labelsize':  16,\n",
    "             'axes.labelsize':   16,\n",
    "             'axes.titlesize':   16,\n",
    "             'figure.titlesize': 16,    \n",
    "             'figure.figsize':[8.0, 6.0],\n",
    "             'figure.subplot.right':0.97,\n",
    "             'figure.subplot.left':0.15,\n",
    "             'font.family':'serif',\n",
    "             'figure.facecolor': 'white',\n",
    "             'legend.frameon': True}\n",
    "plt.rcParams.update(dict_base)"
   ]
  },
  {
   "cell_type": "code",
   "execution_count": 2,
   "metadata": {},
   "outputs": [
    {
     "name": "stdout",
     "output_type": "stream",
     "text": [
      "================================================================\n",
      "                 __  __ ___ ___   _   ___   ___                 \n",
      "                |  \\/  |_ _/ __| /_\\ |   \\ / _ \\                \n",
      "                | |\\/| || | (__ / _ \\| |) | (_) |               \n",
      "                |_|  |_|___\\___/_/ \\_\\___/ \\___/                \n",
      "================================================================\n",
      " Modeling the Intra Cluster Atmosphere for Diverse Observations \n",
      "----------------------------------------------------------------\n",
      "                                                                \n",
      "Setting gNFW Planck coll. (2013) UPP.\n"
     ]
    }
   ],
   "source": [
    "clust = model.Cluster(name='Coma', \n",
    "                      redshift=0.023, M500=7e14*u.Msun, \n",
    "                      cosmology=cosmo, silent=True, \n",
    "                      output_dir='/home/astrogamma/Project/Output/TestClusterModel')"
   ]
  },
  {
   "cell_type": "code",
   "execution_count": 31,
   "metadata": {},
   "outputs": [
    {
     "name": "stdout",
     "output_type": "stream",
     "text": [
      "Setting coord value\n",
      "Setting density_gas_model value\n",
      "Fixing: R500\n",
      "Setting pressure_gas_model value\n",
      "Fixing: R500\n",
      "Setting spectrum_crp_model value\n",
      "Getting R500 value\n",
      "Setting spectrum_cre1_model value\n",
      "Setting density_cre1_model value\n",
      "Fixing: R500\n",
      "Getting the maximal proton energy\n"
     ]
    }
   ],
   "source": [
    "#----- Some parameters that can be set at when defining the cluster\n",
    "clust.coord = SkyCoord(\"194.953d  27.9806d\", frame=\"icrs\", unit=\"deg\")\n",
    "\n",
    "#----- Define the relevant ICM model (available models are defined in model_modpar.py)\n",
    "\n",
    "# Density profile of the target thermal gas\n",
    "clust.density_gas_model = {'name':'beta', 'n_0':3e-3*u.cm**-3, 'beta':2.0/3, 'r_c':290*u.kpc}\n",
    "\n",
    "# Pressure profile of the target thermal gas\n",
    "clust.pressure_gas_model = {'name':'GNFW', 'P_0':2.2e-2*u.keV/u.cm**3, 'c500':2.9, 'a':1.8, 'b':3.1, 'c':0.0}\n",
    "\n",
    "# Set the cosmic ray density profile to the same shape as the thermal gas density\n",
    "clust.set_density_crp_isodens_scal_param()\n",
    "\n",
    "# Cosmic ray proton spectrum\n",
    "clust.spectrum_crp_model = {'name':'PowerLaw', 'Index':2.3}\n",
    "\n",
    "# Cosmic ray proton normalization\n",
    "clust.X_cr_E = {'X':0.01, 'R_norm':clust.R500} # X is the CRp/thermal energy ratio, normalized within R_norm\n",
    "\n",
    "\n",
    "clust.spectrum_cre1_model = {'name':  'PowerLaw', 'Index':2.3}\n",
    "clust.density_cre1_model = {'name': 'beta', 'n_0':3e-3*u.cm**-3, 'beta':2.0/3, 'r_c':290*u.kpc}\n",
    "\n",
    "Eemin = (const.m_e *const.c**2).to('GeV')\n",
    "#clust.Epmin \n",
    "Eemax = clust.Epmax"
   ]
  },
  {
   "cell_type": "code",
   "execution_count": 7,
   "metadata": {},
   "outputs": [],
   "source": [
    "def sync_spectrum( freq = np.logspace(-3,2,100)*u.GHz, norm = 1 , ind = 2.3 ):\n",
    "    \n",
    "    '''Uses Primary Electron population via rate_sync() and multiplies the result by the norm\n",
    "    '''\n",
    "    \n",
    "    #Get energy\n",
    "    #freq = model_tools.check_qarray(freq, unit='GHz')\n",
    "    energy = (const.h*freq).to('eV')\n",
    "    \n",
    " \n",
    "    Rmin = clust._Rmin\n",
    "    \n",
    "    Rmax = clust._R500\n",
    "        \n",
    "    clust.spectrum_cre1_model = {'name':  'PowerLaw', 'Index':ind }\n",
    "\n",
    "\n",
    "    #sample radius\n",
    "    rad = model_tools.sampling_array(Rmin, Rmax, NptPd = clust._Npt_per_decade_integ, unit = True)\n",
    "    #Use rate sync to get synchotron rate\n",
    "   \n",
    "    dNdEdVdt = rate_sync(energy, rad)\n",
    "    #integrate spherically\n",
    "    dNdEdt = model_tools.spherical_integration(norm * dNdEdVdt, rad)\n",
    "    \n",
    "    #This gave us luminosity; now get flux \n",
    "    dNdEdSdt = dNdEdt / (4*np.pi * clust._D_lum**2)\n",
    "    \n",
    "    #Convert to Jy \n",
    "    return freq, (dNdEdSdt*energy**2 / freq).to('Jy')\n",
    "\n",
    "\n",
    "def sync_spectrum2( freq = np.logspace(-3,2,100)*u.GHz, norm = 1  , ind = 2.3 ):\n",
    "    \n",
    "    '''Uses the Secondary Electron population\n",
    "    '''\n",
    "    \n",
    "    #Get energy\n",
    "    #freq = model_tools.check_qarray(freq, unit='GHz')\n",
    "    energy = (const.h*freq).to('eV')\n",
    "    \n",
    " \n",
    "    Rmin = clust._Rmin\n",
    "    \n",
    "    Rmax = clust._R500\n",
    "        \n",
    "    clust.spectrum_crp_model = {'name':'PowerLaw', 'Index':ind }\n",
    "  \n",
    "    \n",
    "    #sample radius\n",
    "    rad = model_tools.sampling_array(Rmin, Rmax, NptPd = clust._Npt_per_decade_integ, unit = True)\n",
    "    #Use rate sync to get synchotron rate\n",
    "   \n",
    "    dNdEdVdt = clust.get_rate_synchrotron(energy, rad)\n",
    "    #integrate spherically\n",
    "    dNdEdt = model_tools.spherical_integration(norm * dNdEdVdt, rad)\n",
    "    \n",
    "    #This gave us luminosity; now get flux \n",
    "    dNdEdSdt = dNdEdt / (4*np.pi * clust._D_lum**2)\n",
    "    \n",
    "    #Convert to Jy \n",
    "    return freq, (dNdEdSdt*energy**2 / freq).to('Jy')"
   ]
  },
  {
   "cell_type": "markdown",
   "metadata": {},
   "source": [
    "## Compare Automatic Function and Default values"
   ]
  },
  {
   "cell_type": "code",
   "execution_count": 8,
   "metadata": {},
   "outputs": [
    {
     "name": "stdout",
     "output_type": "stream",
     "text": [
      "Setting spectrum_crp_model value\n"
     ]
    },
    {
     "data": {
      "text/plain": [
       "Text(0.5,1,'new')"
      ]
     },
     "execution_count": 8,
     "metadata": {},
     "output_type": "execute_result"
    },
    {
     "data": {
      "image/png": "[encoded data removed]",
      "text/plain": [
       "<Figure size 1080x432 with 2 Axes>"
      ]
     },
     "metadata": {
      "needs_background": "light"
     },
     "output_type": "display_data"
    }
   ],
   "source": [
    "plt.figure(figsize = (15,6))\n",
    "plt.subplot(121)\n",
    "### Automatic function\n",
    "frequency, readyspectrum = clust.get_synchrotron_spectrum()\n",
    "plt.loglog(frequency,readyspectrum)\n",
    "plt.title(\"Get Sync Spect\")\n",
    "\n",
    "#New one \n",
    "plt.subplot(122)\n",
    "frequency, spectrum2 = sync_spectrum2()\n",
    "plt.loglog(frequency, spectrum2, label = \"secondary\")\n",
    "plt.legend()\n",
    "\n",
    "plt.title(\"new\")\n"
   ]
  },
  {
   "cell_type": "markdown",
   "metadata": {},
   "source": [
    "# Coma"
   ]
  },
  {
   "cell_type": "code",
   "execution_count": 9,
   "metadata": {},
   "outputs": [],
   "source": [
    "\n",
    "dat_freq = np.array([30.9,43,73.8,151,326,408,430,608.5,1380,1400,2675,2700,4850])*u.MHz\n",
    "dat_flux = np.array([49,51,17,7.2,3.81,2.0,2.55,1.2,0.53,0.64,0.11,0.07,0.03])*u.Jy\n",
    "dat_err  = np.array([10,13,12,0.8,0.03,0.2,0.28,0.3,0.05,0.035,0.03,0.02,0.01])*u.Jy"
   ]
  },
  {
   "cell_type": "code",
   "execution_count": 10,
   "metadata": {},
   "outputs": [
    {
     "name": "stdout",
     "output_type": "stream",
     "text": [
      "Setting spectrum_crp_model value\n",
      "Setting spectrum_crp_model value\n",
      "Setting spectrum_crp_model value\n",
      "Setting spectrum_crp_model value\n",
      "Setting spectrum_crp_model value\n",
      "Setting spectrum_crp_model value\n",
      "Setting spectrum_crp_model value\n",
      "Setting spectrum_crp_model value\n",
      "Setting spectrum_crp_model value\n",
      "Setting spectrum_crp_model value\n",
      "Setting spectrum_crp_model value\n",
      "Setting spectrum_crp_model value\n",
      "Setting spectrum_crp_model value\n",
      "Setting spectrum_crp_model value\n",
      "Setting spectrum_crp_model value\n",
      "Setting spectrum_crp_model value\n",
      "Setting spectrum_crp_model value\n",
      "Setting spectrum_crp_model value\n",
      "Setting spectrum_crp_model value\n",
      "Setting spectrum_crp_model value\n",
      "Setting spectrum_crp_model value\n",
      "Setting spectrum_crp_model value\n",
      "Setting spectrum_crp_model value\n",
      "Setting spectrum_crp_model value\n",
      "Setting spectrum_crp_model value\n",
      "Setting spectrum_crp_model value\n",
      "Setting spectrum_crp_model value\n",
      "Setting spectrum_crp_model value\n",
      "Setting spectrum_crp_model value\n",
      "Setting spectrum_crp_model value\n",
      "Setting spectrum_crp_model value\n",
      "Setting spectrum_crp_model value\n",
      "Setting spectrum_crp_model value\n",
      "Setting spectrum_crp_model value\n",
      "Setting spectrum_crp_model value\n",
      "Setting spectrum_crp_model value\n",
      "Setting spectrum_crp_model value\n",
      "Setting spectrum_crp_model value\n",
      "Setting spectrum_crp_model value\n",
      "Setting spectrum_crp_model value\n",
      "Setting spectrum_crp_model value\n",
      "Setting spectrum_crp_model value\n",
      "Setting spectrum_crp_model value\n",
      "Setting spectrum_crp_model value\n",
      "Setting spectrum_crp_model value\n",
      "Setting spectrum_crp_model value\n",
      "Setting spectrum_crp_model value\n",
      "Setting spectrum_crp_model value\n",
      "Setting spectrum_crp_model value\n",
      "Setting spectrum_crp_model value\n",
      "Setting spectrum_crp_model value\n",
      "Setting spectrum_crp_model value\n",
      "[2.16580202 3.00862298]\n"
     ]
    }
   ],
   "source": [
    "from scipy import optimize\n",
    "\n",
    "dat_freq = dat_freq.to('GHz')\n",
    "\n",
    "\n",
    "clust._Npt_per_decade_integ = 5\n",
    "## Sync Spectrum will be identical to the one from \"electrons\", but with norm as a parameter\n",
    "## SyncFit , norm set \n",
    "\n",
    "\n",
    "def syncfit(x,a, b):\n",
    "    return sync_spectrum2(x*u.GHz,a, b)[1].to_value('Jy')\n",
    "\n",
    "\n",
    "\n",
    "params, params_covariance = optimize.curve_fit(syncfit, dat_freq.to_value('GHz'), dat_flux.to_value('Jy'), \n",
    "                                               sigma = dat_err.to_value('Jy'),\n",
    "                                               p0=[0, 2])\n",
    "\n",
    "print(params)"
   ]
  },
  {
   "cell_type": "code",
   "execution_count": 11,
   "metadata": {},
   "outputs": [
    {
     "name": "stdout",
     "output_type": "stream",
     "text": [
      "Setting spectrum_crp_model value\n"
     ]
    },
    {
     "data": {
      "image/png": "[encoded data removed]",
      "text/plain": [
       "<Figure size 1080x720 with 1 Axes>"
      ]
     },
     "metadata": {
      "needs_background": "light"
     },
     "output_type": "display_data"
    }
   ],
   "source": [
    "plt.figure(figsize=(15, 10))\n",
    "plt.errorbar(dat_freq.to_value('GHz'), dat_flux.to_value('Jy'), yerr = dat_err.to_value('Jy') , fmt=\"k.\", label = \"Coma Data\")\n",
    "#plt.scatter(dat_freq, dat_flux, label='Data')\n",
    "plt.loglog(dat_freq, syncfit(dat_freq.to_value('GHz'), params[0],params[1]),\n",
    "         label='Primary Electron Population')\n",
    "\n",
    "plt.legend(loc='best')\n",
    "\n",
    "plt.show()"
   ]
  },
  {
   "cell_type": "markdown",
   "metadata": {},
   "source": [
    "## Look at new Ratio"
   ]
  },
  {
   "cell_type": "code",
   "execution_count": 21,
   "metadata": {},
   "outputs": [
    {
     "name": "stdout",
     "output_type": "stream",
     "text": [
      "Setting spectrum_crp_model value\n"
     ]
    }
   ],
   "source": [
    "## Change index\n",
    "clust.spectrum_crp_model = {'name':'PowerLaw', 'Index': params[1]}"
   ]
  },
  {
   "cell_type": "code",
   "execution_count": 28,
   "metadata": {},
   "outputs": [],
   "source": [
    "## Change norm § but I'm not so sure if this works as I intended\n",
    "\n",
    "def cre2_spectrum( energy=np.logspace(-2,7,100)*u.GeV, Rmax=None):\n",
    "\n",
    "        # In case the input is not an array\n",
    "        energy = model_tools.check_qarray(energy, unit='GeV')\n",
    "\n",
    "        # Define the radius for integration\n",
    "        if Rmax is None:\n",
    "            Rmax = clust.R500\n",
    "                \n",
    "        # Integrate over the considered volume\n",
    "        rmin = np.amin([clust.Rmin.to_value('kpc'), Rmax.to_value('kpc')/10])*u.kpc #In case of small Rmax, make sure we go low enough\n",
    "        rad = model_tools.sampling_array(rmin, Rmax, NptPd=clust._Npt_per_decade_integ, unit=True)\n",
    "\n",
    "        # To improve precision around R_truncation in integration\n",
    "        if np.amax(rad) > clust.R_truncation:\n",
    "            rad = rad.insert(0, clust.R_truncation)\n",
    "            rad.sort()\n",
    "\n",
    "        # Get the differential spectrum/profile\n",
    "        dN_dEdV = clust.get_cre2_2d(energy, rad)\n",
    "\n",
    "        # Integrate\n",
    "        spectrum = model_tools.trapz_loglog(4*np.pi*rad**2 * params[0]*dN_dEdV, rad)\n",
    "\n",
    "        return energy, spectrum.to('GeV-1')\n",
    "    \n",
    "    \n",
    "    \n",
    "def crp_spectrum( energy=np.logspace(-2,7,100)*u.GeV, Rmax=None):\n",
    "\n",
    "        # In case the input is not an array\n",
    "        energy = model_tools.check_qarray(energy, unit='GeV')\n",
    "\n",
    "        # Define the radius for integration\n",
    "        if Rmax is None:\n",
    "            Rmax = clust.R500\n",
    "                \n",
    "        # Integrate over the considered volume\n",
    "        rmin = np.amin([clust.Rmin.to_value('kpc'), Rmax.to_value('kpc')/10])*u.kpc #In case of small Rmax, make sure we go low enough\n",
    "        rad = model_tools.sampling_array(rmin, Rmax, NptPd=clust._Npt_per_decade_integ, unit=True)\n",
    "\n",
    "        # To improve precision around R_truncation in integration\n",
    "        if np.amax(rad) > clust.R_truncation:\n",
    "            rad = rad.insert(0, clust.R_truncation)\n",
    "            rad.sort()\n",
    "\n",
    "        # Get the differential spectrum/profile\n",
    "        dN_dEdV = clust.get_crp_2d(energy, rad)\n",
    "\n",
    "        # Integrate\n",
    "        spectrum = model_tools.trapz_loglog(4*np.pi*rad**2 * params[0]*dN_dEdV, rad)\n",
    "\n",
    "        return energy, spectrum.to('GeV-1')\n",
    "    "
   ]
  },
  {
   "cell_type": "markdown",
   "metadata": {},
   "source": [
    "## Secondary Electron Energy"
   ]
  },
  {
   "cell_type": "code",
   "execution_count": 23,
   "metadata": {},
   "outputs": [
    {
     "name": "stdout",
     "output_type": "stream",
     "text": [
      "Getting R500 value\n",
      "Getting Rmin value\n",
      "Getting R_truncation value\n"
     ]
    },
    {
     "data": {
      "text/latex": [
       "$1.3705652 \\times 10^{61} \\; \\mathrm{GeV}$"
      ],
      "text/plain": [
       "<Quantity 1.3705652e+61 GeV>"
      ]
     },
     "execution_count": 23,
     "metadata": {},
     "output_type": "execute_result"
    }
   ],
   "source": [
    "#Energy in spectrum\n",
    "eng = model_tools.sampling_array(Eemin , Eemax, NptPd=clust._Npt_per_decade_integ, unit=True)\n",
    "\n",
    "#eng, Fe = get_normed_spectrum_cre1(clust, eng)\n",
    "#Integ_e = model_tools.trapz_loglog( eng* Fe.to_value('adu'), eng)\n",
    "\n",
    "\n",
    "eng, Fe = cre2_spectrum(eng)\n",
    "Integ_e2 = model_tools.trapz_loglog( eng* Fe, eng)\n",
    "Integ_e2"
   ]
  },
  {
   "cell_type": "markdown",
   "metadata": {},
   "source": [
    "## CRp Energy"
   ]
  },
  {
   "cell_type": "code",
   "execution_count": 29,
   "metadata": {},
   "outputs": [
    {
     "name": "stdout",
     "output_type": "stream",
     "text": [
      "Getting R500 value\n",
      "Getting Rmin value\n",
      "Getting R_truncation value\n"
     ]
    },
    {
     "data": {
      "text/latex": [
       "$3.747845 \\times 10^{64} \\; \\mathrm{GeV}$"
      ],
      "text/plain": [
       "<Quantity 3.74784496e+64 GeV>"
      ]
     },
     "execution_count": 29,
     "metadata": {},
     "output_type": "execute_result"
    }
   ],
   "source": [
    "eng = model_tools.sampling_array(Eemin , Eemax, NptPd=clust._Npt_per_decade_integ, unit=True)\n",
    "\n",
    "#eng, Fe = get_normed_spectrum_cre1(clust, eng)\n",
    "#Integ_e = model_tools.trapz_loglog( eng* Fe.to_value('adu'), eng)\n",
    "\n",
    "\n",
    "eng, Fp = crp_spectrum(eng)\n",
    "Integ_p = model_tools.trapz_loglog( eng* Fp, eng)\n",
    "Integ_p"
   ]
  },
  {
   "cell_type": "markdown",
   "metadata": {},
   "source": [
    "### Thermal Energy"
   ]
  },
  {
   "cell_type": "code",
   "execution_count": 24,
   "metadata": {},
   "outputs": [
    {
     "name": "stdout",
     "output_type": "stream",
     "text": [
      "Getting R500 value\n"
     ]
    },
    {
     "data": {
      "text/latex": [
       "$[1.7654799 \\times 10^{66}] \\; \\mathrm{GeV}$"
      ],
      "text/plain": [
       "<Quantity [1.76547987e+66] GeV>"
      ]
     },
     "execution_count": 24,
     "metadata": {},
     "output_type": "execute_result"
    }
   ],
   "source": [
    "# Thermal energy\n",
    "rad, ene = clust.get_thermal_energy_profile(clust.R500)\n",
    "ene = ene.to('GeV')\n",
    "ene"
   ]
  },
  {
   "cell_type": "markdown",
   "metadata": {},
   "source": [
    "# Energy Ratio"
   ]
  },
  {
   "cell_type": "code",
   "execution_count": 30,
   "metadata": {},
   "outputs": [
    {
     "name": "stdout",
     "output_type": "stream",
     "text": [
      "For 2ndary electrons it is  7.76313125174e-06\n",
      "For protons it is  0.0212284774382\n"
     ]
    }
   ],
   "source": [
    "# Secondary Electrons\n",
    "X_cre2_E = float(Integ_e2/ene)\n",
    "X_crp_E = float(Integ_p/ene)\n",
    "print \"For 2ndary electrons it is \",X_cre2_E\n",
    "print \"For protons it is \", X_crp_E"
   ]
  },
  {
   "cell_type": "markdown",
   "metadata": {},
   "source": [
    "# More Direct version\n",
    "\n"
   ]
  },
  {
   "cell_type": "code",
   "execution_count": 36,
   "metadata": {},
   "outputs": [
    {
     "name": "stdout",
     "output_type": "stream",
     "text": [
      "Getting the cosmic ray protons / thermal energy and normalization radius\n",
      "CPU times: user 95 µs, sys: 0 ns, total: 95 µs\n",
      "Wall time: 99.9 µs\n"
     ]
    },
    {
     "data": {
      "text/plain": [
       "{'R_norm': <Quantity 1369.4682155 kpc>, 'X': 0.005687649485602653}"
      ]
     },
     "execution_count": 36,
     "metadata": {},
     "output_type": "execute_result"
    }
   ],
   "source": [
    "%%time\n",
    "clust.X_crp_E\n"
   ]
  },
  {
   "cell_type": "code",
   "execution_count": 37,
   "metadata": {},
   "outputs": [
    {
     "name": "stdout",
     "output_type": "stream",
     "text": [
      "Getting R500 value\n",
      "Setting cosmic ray to thermal pressure ratio value\n",
      "Setting spectrum_crp_model value\n",
      "Getting R500 value\n",
      "Setting cosmic ray to thermal pressure ratio value\n",
      "Setting spectrum_crp_model value\n",
      "Getting R500 value\n",
      "Setting cosmic ray to thermal pressure ratio value\n",
      "Setting spectrum_crp_model value\n",
      "Getting R500 value\n",
      "Setting cosmic ray to thermal pressure ratio value\n",
      "Setting spectrum_crp_model value\n",
      "Getting R500 value\n",
      "Setting cosmic ray to thermal pressure ratio value\n",
      "Setting spectrum_crp_model value\n",
      "Getting R500 value\n",
      "Setting cosmic ray to thermal pressure ratio value\n",
      "Setting spectrum_crp_model value\n",
      "Getting R500 value\n",
      "Setting cosmic ray to thermal pressure ratio value\n",
      "Setting spectrum_crp_model value\n",
      "Getting R500 value\n",
      "Setting cosmic ray to thermal pressure ratio value\n",
      "Setting spectrum_crp_model value\n",
      "Getting R500 value\n",
      "Setting cosmic ray to thermal pressure ratio value\n",
      "Setting spectrum_crp_model value\n",
      "Getting R500 value\n",
      "Setting cosmic ray to thermal pressure ratio value\n",
      "Setting spectrum_crp_model value\n",
      "Getting R500 value\n",
      "Setting cosmic ray to thermal pressure ratio value\n",
      "Setting spectrum_crp_model value\n",
      "Getting R500 value\n",
      "Setting cosmic ray to thermal pressure ratio value\n",
      "Setting spectrum_crp_model value\n",
      "Getting R500 value\n",
      "Setting cosmic ray to thermal pressure ratio value\n",
      "Setting spectrum_crp_model value\n",
      "Getting R500 value\n",
      "Setting cosmic ray to thermal pressure ratio value\n",
      "Setting spectrum_crp_model value\n",
      "Getting R500 value\n",
      "Setting cosmic ray to thermal pressure ratio value\n",
      "Setting spectrum_crp_model value\n",
      "Getting R500 value\n",
      "Setting cosmic ray to thermal pressure ratio value\n",
      "Setting spectrum_crp_model value\n",
      "Getting R500 value\n",
      "Setting cosmic ray to thermal pressure ratio value\n",
      "Setting spectrum_crp_model value\n",
      "Getting R500 value\n",
      "Setting cosmic ray to thermal pressure ratio value\n",
      "Setting spectrum_crp_model value\n",
      "Getting R500 value\n",
      "Setting cosmic ray to thermal pressure ratio value\n",
      "Setting spectrum_crp_model value\n",
      "Getting R500 value\n",
      "Setting cosmic ray to thermal pressure ratio value\n",
      "Setting spectrum_crp_model value\n",
      "Getting R500 value\n",
      "Setting cosmic ray to thermal pressure ratio value\n",
      "Setting spectrum_crp_model value\n",
      "[0.02281842 3.0070768 ]\n",
      "CPU times: user 2min 48s, sys: 67.6 ms, total: 2min 48s\n",
      "Wall time: 2min 48s\n"
     ]
    }
   ],
   "source": [
    "%%time\n",
    "from scipy import optimize\n",
    "\n",
    "dat_freq = dat_freq.to('GHz')\n",
    "\n",
    "\n",
    "\n",
    "## Sync Spectrum will be identical to the one from \"electrons\", but with norm as a parameter\n",
    "## SyncFit , norm set \n",
    "\n",
    "\n",
    "def syncfit(x,a, ind):\n",
    "    clust.X_crp_E = {'X':a, 'R_norm': clust.R500}\n",
    "    clust.spectrum_crp_model = {'name':'PowerLaw', 'Index':ind }\n",
    "    return clust.get_synchrotron_spectrum(x*u.GHz)[1].to_value('Jy')\n",
    "\n",
    "\n",
    "\n",
    "\n",
    "\n",
    "params, params_covariance = optimize.curve_fit(syncfit, dat_freq.to_value('GHz'), dat_flux.to_value('Jy'), \n",
    "                                               sigma = dat_err.to_value('Jy'),\n",
    "                                               p0=[0.01, 3])\n",
    "\n",
    "print(params)"
   ]
  },
  {
   "cell_type": "code",
   "execution_count": null,
   "metadata": {},
   "outputs": [],
   "source": []
  }
 ],
 "metadata": {
  "kernelspec": {
   "display_name": "Python 2",
   "language": "python",
   "name": "python2"
  },
  "language_info": {
   "codemirror_mode": {
    "name": "ipython",
    "version": 2
   },
   "file_extension": ".py",
   "mimetype": "text/x-python",
   "name": "python",
   "nbconvert_exporter": "python",
   "pygments_lexer": "ipython2",
   "version": "2.7.17"
  }
 },
 "nbformat": 4,
 "nbformat_minor": 2
}
