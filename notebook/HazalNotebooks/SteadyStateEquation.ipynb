{
 "cells": [
  {
   "cell_type": "markdown",
   "metadata": {},
   "source": [
    "## Steady State Equation\n",
    "From Sarzin; eq 40\n"
   ]
  },
  {
   "cell_type": "code",
   "execution_count": 7,
   "metadata": {},
   "outputs": [],
   "source": [
    "from matplotlib.colors import SymLogNorm\n",
    "import matplotlib\n",
    "import matplotlib.pyplot as plt\n",
    "import numpy as np\n",
    "from astropy.coordinates.sky_coordinate import SkyCoord\n",
    "import astropy.units as u\n",
    "from astropy.cosmology import Planck15 as cosmo\n",
    "from astropy import constants as const\n",
    "from astropy.wcs import WCS\n",
    "from ClusterModel import model\n",
    "from ClusterModel import model_modpar\n",
    "from ClusterModel import model_tools\n",
    "\n",
    "# Modify plotting parameters\n",
    "dict_base = {'font.size':        16,\n",
    "             'legend.fontsize':  16,\n",
    "             'xtick.labelsize':  16,\n",
    "             'ytick.labelsize':  16,\n",
    "             'axes.labelsize':   16,\n",
    "             'axes.titlesize':   16,\n",
    "             'figure.titlesize': 16,    \n",
    "             'figure.figsize':[8.0, 6.0],\n",
    "             'figure.subplot.right':0.97,\n",
    "             'figure.subplot.left':0.15,\n",
    "             'font.family':'serif',\n",
    "             'figure.facecolor': 'white',\n",
    "             'legend.frameon': True}\n",
    "plt.rcParams.update(dict_base)"
   ]
  },
  {
   "cell_type": "code",
   "execution_count": 8,
   "metadata": {},
   "outputs": [],
   "source": [
    "clust = model.Cluster(name='Coma', \n",
    "                      redshift=0.023, M500=7e14*u.Msun, \n",
    "                      cosmology=cosmo, silent=True)"
   ]
  },
  {
   "cell_type": "code",
   "execution_count": 9,
   "metadata": {},
   "outputs": [],
   "source": [
    "from ClusterModel.ClusterTools import cluster_electron_loss"
   ]
  },
  {
   "cell_type": "markdown",
   "metadata": {},
   "source": [
    "## Understanding step by step"
   ]
  },
  {
   "cell_type": "code",
   "execution_count": 10,
   "metadata": {},
   "outputs": [],
   "source": [
    "energy=np.logspace(-2,7,100)*u.GeV\n",
    "radius=np.logspace(0,4,100)*u.kpc\n",
    "\n",
    "radius, n_e = clust.get_density_gas_profile(radius)\n",
    "radius, B   = clust.get_magfield_profile(radius)\n",
    "\n",
    "dEdt = cluster_electron_loss.dEdt_tot(energy, radius=radius, n_e=n_e, B=B, redshift=clust._redshift)\n",
    "\n",
    "\n",
    "emin = np.amax([(const.m_e*const.c**2).to_value('GeV'),\n",
    "                        np.amin(energy.to_value('GeV'))])*u.GeV # min of CRe energy requested, or m_e c^2\n",
    "emax = clust._Epmax\n",
    "eng = model_tools.sampling_array(emin, emax, NptPd=clust._Npt_per_decade_integ, unit=True)\n",
    "\n",
    "\n",
    "## BIG CHANGES#######################################################################\n",
    "#dN_dEdVdt = clust.get_cre1_2d(eng,radius)\n",
    "dN_dEdVdt= clust.get_rate_cre2(eng, radius) \n",
    "## BIG CHNGES#######################################################################\n",
    "\n",
    "\n",
    "eng_grid = model_tools.replicate_array(eng, len(radius), T=True)\n",
    "dN_dEdVdt_integrated = np.zeros((len(energy),len(radius))) * u.cm**-3*u.s**-1\n",
    "\n",
    "    \n",
    "\n",
    "for i in range(len(energy)):\n",
    "            # Set out of limit values to 0\n",
    "    dN_dEdVdt_i = dN_dEdVdt.copy()\n",
    "    dN_dEdVdt_i[eng_grid < energy[i]] *= 0\n",
    "            \n",
    "            # Compute integral\n",
    "    dN_dEdVdt_integrated[i,:] = model_tools.trapz_loglog(dN_dEdVdt_i, eng, axis=0)\n",
    "\n",
    "    \n",
    "energy_grid = model_tools.replicate_array(energy, len(radius), T=True)\n",
    "w_neg = energy_grid <= const.m_e*const.c**2 # flag energies that are not possible\n",
    "dEdt[w_neg] = 1*dEdt.unit\n",
    "dN_dEdV = dN_dEdVdt_integrated / dEdt\n",
    "# dN_dEdV[w_neg] = 0\n"
   ]
  },
  {
   "cell_type": "code",
   "execution_count": 11,
   "metadata": {},
   "outputs": [
    {
     "data": {
      "text/latex": [
       "$\\mathrm{\\frac{1}{GeV\\,cm^{3}}}$"
      ],
      "text/plain": [
       "Unit(\"1 / (cm3 GeV)\")"
      ]
     },
     "execution_count": 11,
     "metadata": {},
     "output_type": "execute_result"
    }
   ],
   "source": [
    "dN_dEdV.unit"
   ]
  },
  {
   "cell_type": "code",
   "execution_count": 12,
   "metadata": {},
   "outputs": [
    {
     "data": {
      "text/latex": [
       "$\\mathrm{\\frac{GeV}{s}}$"
      ],
      "text/plain": [
       "Unit(\"GeV / s\")"
      ]
     },
     "execution_count": 12,
     "metadata": {},
     "output_type": "execute_result"
    }
   ],
   "source": [
    "dEdt.unit"
   ]
  },
  {
   "cell_type": "code",
   "execution_count": 13,
   "metadata": {},
   "outputs": [
    {
     "data": {
      "text/latex": [
       "$\\mathrm{\\frac{1}{GeV\\,s\\,cm^{3}}}$"
      ],
      "text/plain": [
       "Unit(\"1 / (cm3 GeV s)\")"
      ]
     },
     "execution_count": 13,
     "metadata": {},
     "output_type": "execute_result"
    }
   ],
   "source": [
    "dN_dEdVdt_i.unit"
   ]
  },
  {
   "cell_type": "code",
   "execution_count": 14,
   "metadata": {},
   "outputs": [
    {
     "data": {
      "text/latex": [
       "$\\mathrm{\\frac{1}{GeV\\,s\\,cm^{3}}}$"
      ],
      "text/plain": [
       "Unit(\"1 / (cm3 GeV s)\")"
      ]
     },
     "execution_count": 14,
     "metadata": {},
     "output_type": "execute_result"
    }
   ],
   "source": [
    "dN_dEdVdt.unit"
   ]
  },
  {
   "cell_type": "code",
   "execution_count": 15,
   "metadata": {},
   "outputs": [
    {
     "data": {
      "text/latex": [
       "$\\mathrm{\\frac{1}{s\\,cm^{3}}}$"
      ],
      "text/plain": [
       "Unit(\"1 / (cm3 s)\")"
      ]
     },
     "execution_count": 15,
     "metadata": {},
     "output_type": "execute_result"
    }
   ],
   "source": [
    "dN_dEdVdt_integrated.unit"
   ]
  },
  {
   "cell_type": "markdown",
   "metadata": {},
   "source": [
    "## Difference in units "
   ]
  },
  {
   "cell_type": "code",
   "execution_count": 16,
   "metadata": {},
   "outputs": [
    {
     "data": {
      "text/plain": [
       "(270, 100)"
      ]
     },
     "execution_count": 16,
     "metadata": {},
     "output_type": "execute_result"
    }
   ],
   "source": [
    "eng_grid.shape"
   ]
  },
  {
   "cell_type": "code",
   "execution_count": 17,
   "metadata": {},
   "outputs": [
    {
     "data": {
      "text/plain": [
       "(270, 100)"
      ]
     },
     "execution_count": 17,
     "metadata": {},
     "output_type": "execute_result"
    }
   ],
   "source": [
    "dN_dEdVdt_i.shape"
   ]
  },
  {
   "cell_type": "code",
   "execution_count": 19,
   "metadata": {},
   "outputs": [
    {
     "data": {
      "text/plain": [
       "(270, 100)"
      ]
     },
     "execution_count": 19,
     "metadata": {},
     "output_type": "execute_result"
    }
   ],
   "source": [
    "dN_dEdVdt.shape"
   ]
  },
  {
   "cell_type": "markdown",
   "metadata": {},
   "source": [
    "## The different functions used\n",
    "- For 2ndary electrons: get rate cre2 is used\n",
    "- For Coolcore solution: cre1_2d is used\n",
    "\n"
   ]
  },
  {
   "cell_type": "markdown",
   "metadata": {},
   "source": [
    "## To cancel seconds in unit, I multiply get_cre1_2d by seconds\n",
    "We have time dependence due to the loss function dNdt below"
   ]
  },
  {
   "cell_type": "code",
   "execution_count": 23,
   "metadata": {},
   "outputs": [],
   "source": [
    "def get_cre1_2d_SS(energy=np.logspace(-2,7,100)*u.GeV, radius=np.logspace(0,4,100)*u.kpc):\n",
    "\n",
    "        # In case the input is not an array\n",
    "        energy = model_tools.check_qarray(energy, unit='GeV')\n",
    "        radius = model_tools.check_qarray(radius, unit='kpc')\n",
    "\n",
    "        # Get the necessary quantity\n",
    "        radius, n_e = clust.get_density_gas_profile(radius)\n",
    "        radius, B   = clust.get_magfield_profile(radius)\n",
    "\n",
    "        # Compute the losses\n",
    "        dEdt = cluster_electron_loss.dEdt_tot(energy, radius=radius, n_e=n_e, B=B, redshift=clust._redshift)\n",
    "\n",
    "        # Get the injection rate between the and max possible, i.e. Epmax\n",
    "        emin = np.amax([(const.m_e*const.c**2).to_value('GeV'),\n",
    "                        np.amin(energy.to_value('GeV'))])*u.GeV # min of CRe energy requested, or m_e c^2\n",
    "        emax = clust._Epmax\n",
    "        eng = model_tools.sampling_array(emin, emax, NptPd=clust._Npt_per_decade_integ, unit=True)\n",
    "        ### get spectrum usng momentum powerlaw by modifying model externally \n",
    "\n",
    "        dN_dEdVdt = clust.get_cre1_2d(eng, radius)*u.s**-1\n",
    "       # dN_dEdVdt = model_tools.replicate_array(dN_dEdVdtspec, len(radius), T= True)\n",
    "        eng_grid = model_tools.replicate_array(eng, len(radius), T=True)\n",
    "\n",
    "        # Integrated cumulatively over the energy\n",
    "        dN_dEdVdt_integrated = np.zeros((len(energy),len(radius))) * u.cm**-3*u.s**-1\n",
    "        \n",
    "        for i in range(len(energy)):\n",
    "            # Set out of limit values to 0\n",
    "            dN_dEdVdt_i = dN_dEdVdt.copy()\n",
    "            dN_dEdVdt_i[eng_grid < energy[i]] *= 0\n",
    "            \n",
    "            # Compute integral\n",
    "            dN_dEdVdt_integrated[i,:] = model_tools.trapz_loglog(dN_dEdVdt_i, eng, axis=0)\n",
    "\n",
    "        # Compute the solution the equation: dN/dEdV(E,r) = 1/L(E,r) * \\int_E^\\infty Q(E) dE\n",
    "        energy_grid = model_tools.replicate_array(energy, len(radius), T=True)\n",
    "        w_neg = energy_grid <= const.m_e*const.c**2 # flag energies that are not possible\n",
    "        dEdt[w_neg] = 1*dEdt.unit\n",
    "        dN_dEdV = dN_dEdVdt_integrated / dEdt\n",
    "        dN_dEdV[w_neg] = 0\n",
    "        \n",
    "        return dN_dEdV.to('GeV-1 cm-3 ')\n",
    "\n"
   ]
  },
  {
   "cell_type": "code",
   "execution_count": 24,
   "metadata": {},
   "outputs": [
    {
     "name": "stderr",
     "output_type": "stream",
     "text": [
      "/home/astrogamma/.local/anaconda3/envs/cta/lib/python2.7/site-packages/ipykernel_launcher.py:6: RuntimeWarning: divide by zero encountered in log\n",
      "  \n"
     ]
    },
    {
     "data": {
      "text/plain": [
       "<matplotlib.colorbar.Colorbar at 0x7feaea613350>"
      ]
     },
     "execution_count": 24,
     "metadata": {},
     "output_type": "execute_result"
    },
    {
     "data": {
      "image/png": "[encoded data removed]",
      "text/plain": [
       "<Figure size 720x360 with 2 Axes>"
      ]
     },
     "metadata": {},
     "output_type": "display_data"
    }
   ],
   "source": [
    "dndedv_try = get_cre1_2d_SS()\n",
    "\n",
    "\n",
    "\n",
    "plt.figure(figsize=(10,5))\n",
    "plt.imshow(np.log(dndedv_try.value), origin = 'lower')\n",
    "plt.xlabel(\"radius\")\n",
    "plt.colorbar()\n",
    "\n"
   ]
  },
  {
   "cell_type": "markdown",
   "metadata": {},
   "source": [
    "## Test from code\n",
    "Again step by step"
   ]
  },
  {
   "cell_type": "code",
   "execution_count": 25,
   "metadata": {},
   "outputs": [
    {
     "name": "stderr",
     "output_type": "stream",
     "text": [
      "/home/astrogamma/.local/anaconda3/envs/cta/lib/python2.7/site-packages/ipykernel_launcher.py:2: RuntimeWarning: divide by zero encountered in log\n",
      "  \n"
     ]
    },
    {
     "data": {
      "text/plain": [
       "<matplotlib.image.AxesImage at 0x7feaea5dde10>"
      ]
     },
     "execution_count": 25,
     "metadata": {},
     "output_type": "execute_result"
    },
    {
     "data": {
      "image/png": "[encoded data removed]",
      "text/plain": [
       "<Figure size 576x432 with 1 Axes>"
      ]
     },
     "metadata": {},
     "output_type": "display_data"
    }
   ],
   "source": [
    "dnd = clust.get_cre1_2d_SS()\n",
    "plt.imshow(np.log(dnd.value))"
   ]
  },
  {
   "cell_type": "code",
   "execution_count": 26,
   "metadata": {},
   "outputs": [
    {
     "data": {
      "image/png": "[encoded data removed]",
      "text/plain": [
       "<Figure size 576x432 with 1 Axes>"
      ]
     },
     "metadata": {},
     "output_type": "display_data"
    }
   ],
   "source": [
    "clust._coolcore = True\n",
    "eng, dndn = clust.get_cre1_spectrum()\n",
    "plt.loglog(eng,dndn)\n",
    "plt.show()"
   ]
  },
  {
   "cell_type": "code",
   "execution_count": 27,
   "metadata": {},
   "outputs": [
    {
     "data": {
      "image/png": "[encoded data removed]",
      "text/plain": [
       "<Figure size 576x432 with 1 Axes>"
      ]
     },
     "metadata": {},
     "output_type": "display_data"
    }
   ],
   "source": [
    "eng, ddd = clust.get_cre2_spectrum()\n",
    "plt.loglog(eng,ddd)\n",
    "plt.show()"
   ]
  },
  {
   "cell_type": "code",
   "execution_count": null,
   "metadata": {},
   "outputs": [],
   "source": []
  }
 ],
 "metadata": {
  "kernelspec": {
   "display_name": "Python 2",
   "language": "python",
   "name": "python2"
  },
  "language_info": {
   "codemirror_mode": {
    "name": "ipython",
    "version": 2
   },
   "file_extension": ".py",
   "mimetype": "text/x-python",
   "name": "python",
   "nbconvert_exporter": "python",
   "pygments_lexer": "ipython2",
   "version": "2.7.17"
  }
 },
 "nbformat": 4,
 "nbformat_minor": 2
}
